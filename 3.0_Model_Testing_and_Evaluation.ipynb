{
 "cells": [
  {
   "cell_type": "markdown",
   "metadata": {},
   "source": [
    "## Machine Learning Pipeline"
   ]
  },
  {
   "cell_type": "markdown",
   "metadata": {
    "colab_type": "text",
    "id": "1w2YRhYMHqDX"
   },
   "source": [
    "### IMPORTS"
   ]
  },
  {
   "cell_type": "code",
   "execution_count": 1,
   "metadata": {
    "colab": {},
    "colab_type": "code",
    "id": "to7hOTgFHqDY",
    "outputId": "cb77a7f3-870b-4a03-8387-9921b1888893"
   },
   "outputs": [
    {
     "data": {
      "text/plain": [
       "Intitializing Scala interpreter ..."
      ]
     },
     "metadata": {},
     "output_type": "display_data"
    },
    {
     "data": {
      "text/plain": [
       "Spark Web UI available at http://75db835ef641:4040\n",
       "SparkContext available as 'sc' (version = 2.4.3, master = local[*], app id = local-1560153697814)\n",
       "SparkSession available as 'spark'\n"
      ]
     },
     "metadata": {},
     "output_type": "display_data"
    },
    {
     "data": {
      "text/plain": [
       "import org.apache.spark.sql._\n",
       "import org.apache.spark.sql.functions._\n",
       "import org.apache.spark.sql.types._\n",
       "import java.util.Calendar\n",
       "import java.io\n",
       "import java.text.SimpleDateFormat\n",
       "import org.apache.spark._\n",
       "import org.apache.spark.ml._\n",
       "import org.apache.spark.ml.feature._\n",
       "import org.apache.spark.ml.classification._\n",
       "import org.apache.spark.ml.tree._\n",
       "import org.apache.spark.ml.evaluation._\n",
       "import spark.implicits._\n"
      ]
     },
     "execution_count": 1,
     "metadata": {},
     "output_type": "execute_result"
    }
   ],
   "source": [
    "// Import other libraries\n",
    "import org.apache.spark.sql._\n",
    "import org.apache.spark.sql.functions._\n",
    "import org.apache.spark.sql.types._\n",
    "import java.util.Calendar\n",
    "import java.io\n",
    "import java.text.SimpleDateFormat\n",
    "import org.apache.spark._\n",
    "import org.apache.spark.ml._\n",
    "import org.apache.spark.ml.feature._\n",
    "import org.apache.spark.ml.classification._\n",
    "import org.apache.spark.ml.tree._\n",
    "import org.apache.spark.ml.evaluation._\n",
    "import spark.implicits._"
   ]
  },
  {
   "cell_type": "markdown",
   "metadata": {
    "colab_type": "text",
    "id": "-TwhqI5OHqDe"
   },
   "source": [
    "### ENCODE & IMPORT DATA FUNCTIONS"
   ]
  },
  {
   "cell_type": "code",
   "execution_count": 2,
   "metadata": {},
   "outputs": [
    {
     "data": {
      "text/plain": [
       "encode_features_ml: (df: org.apache.spark.sql.DataFrame, target_feat: String, assembled_feat: String)(org.apache.spark.sql.DataFrame, Array[org.apache.spark.ml.feature.StringIndexer], org.apache.spark.ml.feature.StringIndexerModel, org.apache.spark.ml.feature.VectorAssembler)\n",
       "read_phase2_csv: (filename: String)org.apache.spark.sql.DataFrame\n"
      ]
     },
     "execution_count": 2,
     "metadata": {},
     "output_type": "execute_result"
    }
   ],
   "source": [
    "// Encoding features for machine learning models\n",
    "\n",
    "def encode_features_ml(df: DataFrame, target_feat: String, assembled_feat: String): (DataFrame, Array[StringIndexer], StringIndexerModel, VectorAssembler) = {\n",
    "    // Ensure only categorical columns are encoded\n",
    "    //val feats = df.columns.filterNot(_.toLowerCase().contains(target_feat)).filterNot(_.toLowerCase().contains(\"name\")).filterNot(_.toLowerCase().contains(\"date\")).filterNot(_.toLowerCase().contains(\"time\")).filterNot(_.toLowerCase().contains(\"dob\")).filterNot(_.toLowerCase().contains(\"age\")).filterNot(_.toLowerCase().contains(\"id\"))\n",
    "    val feats = df.columns.filterNot(_.toLowerCase().contains(\"name\")).filterNot(_.toLowerCase().contains(\"date\")).filterNot(_.toLowerCase().contains(\"time\")).filterNot(_.toLowerCase().contains(\"dob\")).filterNot(_.toLowerCase().contains(\"age\")).filterNot(_.toLowerCase().contains(\"id\"))\n",
    "    // Define new encoded columns both indice and vectors\n",
    "    val indexers = feats.map(name => new StringIndexer()\n",
    "            .setInputCol(name)\n",
    "            .setHandleInvalid(\"keep\")\n",
    "            .setOutputCol(name + \"_index\")            \n",
    "    )\n",
    "    val target_indexer = new StringIndexer()\n",
    "            .setInputCol(target_feat)\n",
    "            .setHandleInvalid(\"keep\")\n",
    "            .setOutputCol(target_feat + \"_index\")  \n",
    "    val target_model = target_indexer.fit(df)\n",
    "    val index_feats = feats.map(_+\"_index\")\n",
    "    val feature_assembler = new VectorAssembler() \n",
    "            .setInputCols(index_feats)\n",
    "            .setHandleInvalid(\"keep\")\n",
    "            .setOutputCol(assembled_feat)\n",
    "    val pipeline = new Pipeline().setStages(indexers)  // Setting the indexer in the pipeline        \n",
    "    val df_transformed = pipeline.fit(df).transform(df) // Fitting the encoding pipeline to the dataframe\n",
    "    val df_return = feature_assembler.transform(df_transformed) // Assembling features into one combined feature\n",
    "    return (df_return, indexers, target_model, feature_assembler)\n",
    "}\n",
    "\n",
    "//read data from Phase 2 wrangling task.\n",
    "def read_phase2_csv(filename: String): DataFrame = {\n",
    "    val phase2 = spark.read.format(\"csv\").option(\"header\", \"true\").load(filename)\n",
    "   \n",
    "    val df = phase2.toDF()\n",
    "    return df\n",
    "}"
   ]
  },
  {
   "cell_type": "markdown",
   "metadata": {},
   "source": [
    "## Machine Learning Multinomial Classifier Algorithms\n",
    "### Decision Tree (Random Forest)"
   ]
  },
  {
   "cell_type": "code",
   "execution_count": 5,
   "metadata": {},
   "outputs": [
    {
     "data": {
      "text/plain": [
       "train_decision_tree_model: (train_data: org.apache.spark.sql.DataFrame, target_feat: String, assembled_feat: String)org.apache.spark.ml.classification.RandomForestClassificationModel\n",
       "test_decision_tree_model: (test_data: org.apache.spark.sql.DataFrame, model: org.apache.spark.ml.classification.RandomForestClassificationModel, target_model: org.apache.spark.ml.feature.StringIndexerModel)org.apache.spark.sql.DataFrame\n"
      ]
     },
     "execution_count": 5,
     "metadata": {},
     "output_type": "execute_result"
    }
   ],
   "source": [
    "// TRAIN DECISION TREE\n",
    "def train_decision_tree_model(train_data: DataFrame, target_feat: String, assembled_feat: String): RandomForestClassificationModel  = {\n",
    "    // Define the Random Forest model estimator\n",
    "    val rf = new RandomForestClassifier()\n",
    "      .setLabelCol(target_feat + \"_index\")\n",
    "      .setFeaturesCol(assembled_feat)\n",
    "      .setNumTrees(4) \n",
    "      .setMaxDepth(3) \n",
    "      .setMaxBins(1000)\n",
    "    \n",
    "    // Train model with training dataset\n",
    "    val model = rf.fit(train_data)\n",
    "    \n",
    "    return model\n",
    "} \n",
    "\n",
    "// TEST DECISION TREE\n",
    "def test_decision_tree_model(test_data: DataFrame, model: RandomForestClassificationModel, target_model: StringIndexerModel): DataFrame = {\n",
    "    // Test model with testing dataset\n",
    "    var test_pred = model.transform(test_data)\n",
    "    \n",
    "    // Decode prediction transformer\n",
    "    val decoder = new IndexToString()\n",
    "        .setInputCol(\"prediction\")\n",
    "        .setOutputCol(\"prediction_decoded\")  \n",
    "        .setLabels(target_model.labels)\n",
    "    \n",
    "    // Generate decoded prediction dataframe\n",
    "    val test_pred_decoded = decoder.transform(test_pred)\n",
    "    \n",
    "    return test_pred_decoded\n",
    "}"
   ]
  },
  {
   "cell_type": "markdown",
   "metadata": {},
   "source": [
    "### Naive Bayes Algorithm"
   ]
  },
  {
   "cell_type": "code",
   "execution_count": 6,
   "metadata": {
    "scrolled": false
   },
   "outputs": [
    {
     "data": {
      "text/plain": [
       "train_naive_bayes_model: (train_data: org.apache.spark.sql.DataFrame, target_feat: String, assembled_feat: String)org.apache.spark.ml.classification.NaiveBayesModel\n",
       "test_naive_bayes_model: (test_data: org.apache.spark.sql.DataFrame, model: org.apache.spark.ml.classification.NaiveBayesModel, target_model: org.apache.spark.ml.feature.StringIndexerModel)org.apache.spark.sql.DataFrame\n"
      ]
     },
     "execution_count": 6,
     "metadata": {},
     "output_type": "execute_result"
    }
   ],
   "source": [
    "// TRAIN NAIVE BAYES\n",
    "def train_naive_bayes_model(train_data: DataFrame, target_feat: String, assembled_feat: String): NaiveBayesModel  = {\n",
    "    // Define Naive Bayes Classifier\n",
    "    val nb = new NaiveBayes()\n",
    "        .setLabelCol(target_feat + \"_index\")\n",
    "        .setFeaturesCol(assembled_feat)\n",
    "    \n",
    "    // Train model with training dataset\n",
    "    val model = nb.fit(train_data)\n",
    "    \n",
    "    return model\n",
    "} \n",
    "\n",
    "// TEST NAIVE BAYES\n",
    "def test_naive_bayes_model(test_data: DataFrame, model: NaiveBayesModel, target_model: StringIndexerModel): DataFrame = {\n",
    "    // Test model with testing dataset\n",
    "    var test_pred = model.transform(test_data)\n",
    "    \n",
    "    // Decode prediction transformer\n",
    "    val decoder = new IndexToString()\n",
    "        .setInputCol(\"prediction\")\n",
    "        .setOutputCol(\"prediction_decoded\")  \n",
    "        .setLabels(target_model.labels)\n",
    "    \n",
    "    // Generate decoded prediction dataframe\n",
    "    val test_pred_decoded = decoder.transform(test_pred)\n",
    "    \n",
    "    return test_pred_decoded\n",
    "}"
   ]
  },
  {
   "cell_type": "markdown",
   "metadata": {},
   "source": [
    "### Logistic Regression Classification Algorithm\n",
    "#### Train model"
   ]
  },
  {
   "cell_type": "code",
   "execution_count": 17,
   "metadata": {},
   "outputs": [
    {
     "data": {
      "text/plain": [
       "train_lr_model: (train_data: org.apache.spark.sql.DataFrame, target_feat: String, assembled_feat: String)org.apache.spark.ml.classification.LogisticRegressionModel\n"
      ]
     },
     "execution_count": 17,
     "metadata": {},
     "output_type": "execute_result"
    }
   ],
   "source": [
    "def train_lr_model(train_data: DataFrame, target_feat: String, assembled_feat: String): LogisticRegressionModel  = {\n",
    "    // Define Logistic Regressor Classifier\n",
    "    val lr = new LogisticRegression()\n",
    "        .setLabelCol(target_feat + \"_index\")\n",
    "        .setFeaturesCol(assembled_feat)\n",
    "        .setMaxIter(10)\n",
    "        .setRegParam(0.3)\n",
    "        .setElasticNetParam(0.8)\n",
    "    \n",
    "    // Train model with training dataset\n",
    "    val model = lr.fit(train_data)\n",
    "    \n",
    "    return model\n",
    "} "
   ]
  },
  {
   "cell_type": "markdown",
   "metadata": {},
   "source": [
    "#### Test model"
   ]
  },
  {
   "cell_type": "code",
   "execution_count": 18,
   "metadata": {},
   "outputs": [
    {
     "data": {
      "text/plain": [
       "test_lr_model: (test_data: org.apache.spark.sql.DataFrame, model: org.apache.spark.ml.classification.LogisticRegressionModel, target_model: org.apache.spark.ml.feature.StringIndexerModel)org.apache.spark.sql.DataFrame\n"
      ]
     },
     "execution_count": 18,
     "metadata": {},
     "output_type": "execute_result"
    }
   ],
   "source": [
    "def test_lr_model(test_data: DataFrame, model: LogisticRegressionModel, target_model: StringIndexerModel): DataFrame = {\n",
    "    // Test model with testing dataset\n",
    "    var test_pred = model.transform(test_data)\n",
    "    \n",
    "    // Decode prediction transformer\n",
    "    val decoder = new IndexToString()\n",
    "        .setInputCol(\"prediction\")\n",
    "        .setOutputCol(\"prediction_decoded\")  \n",
    "        .setLabels(target_model.labels)\n",
    "    \n",
    "    // Generate decoded prediction dataframe\n",
    "    val test_pred_decoded = decoder.transform(test_pred)\n",
    "    \n",
    "    return test_pred_decoded\n",
    "}"
   ]
  },
  {
   "cell_type": "markdown",
   "metadata": {},
   "source": [
    "### Evaluate model Function"
   ]
  },
  {
   "cell_type": "code",
   "execution_count": 7,
   "metadata": {},
   "outputs": [
    {
     "data": {
      "text/plain": [
       "evaluate_prediction: (algorithm_name: String, df: org.apache.spark.sql.DataFrame, target_feat: String, prediction_col: String)Unit\n"
      ]
     },
     "execution_count": 7,
     "metadata": {},
     "output_type": "execute_result"
    }
   ],
   "source": [
    "def evaluate_prediction(algorithm_name: String, df: DataFrame, target_feat: String, prediction_col: String) = {\n",
    "    // Evaluate test data's accuracy\n",
    "    var evaluator = new MulticlassClassificationEvaluator()\n",
    "      .setLabelCol(target_feat + \"_index\")\n",
    "      .setPredictionCol(prediction_col)\n",
    "      .setMetricName(\"accuracy\") \n",
    "    val accuracy = evaluator.evaluate(df)\n",
    "    println(s\"$algorithm_name - Test dataset: Accuracy=$accuracy\")\n",
    "    \n",
    "    // Evaluate test data's f1\n",
    "    evaluator = new MulticlassClassificationEvaluator()\n",
    "      .setLabelCol(target_feat + \"_index\")\n",
    "      .setPredictionCol(prediction_col)\n",
    "      .setMetricName(\"f1\")\n",
    "    val f1 = evaluator.evaluate(df)\n",
    "    println(s\"$algorithm_name - Test dataset: F1=$f1\")\n",
    "}"
   ]
  },
  {
   "cell_type": "markdown",
   "metadata": {},
   "source": [
    "### Machine Learning Pipeline"
   ]
  },
  {
   "cell_type": "code",
   "execution_count": 11,
   "metadata": {},
   "outputs": [
    {
     "name": "stdout",
     "output_type": "stream",
     "text": [
      "+---------+---------+--------------------+------------------+----------------+----------+------------+------+----------+--------------+-------------+-----------------+--------------------+-----------+----------+--------+-------+--------+----------+----------+---------------+---------------+-------------+-----------+----------+--------+--------+---------+-----------+------------------------+--------------------+-----------------------+--------------------+--------------------+--------------------+---------------------+--------------------+------------------------+--------------------+--------------------+--------------------+--------------------+--------------------+--------------------+----------------------+--------------------+--------------------+--------------------+--------------------+\n",
      "|    id_in|  name_in|   location_found_in|       intake_type|intake_condition|species_in|age_years_in|sex_in|desexed_in|prim_colour_in|sec_colour_in|mix_breed_bool_in|       prim_breed_in| town_found|   date_in| time_in|ampm_in|month_in|weekday_in|    dob_in|   outcome_type|outcome_subtype|age_years_out|desexed_out|  date_out|time_out|ampm_out|month_out|weekday_out|location_found_in_vector|  intake_type_vector|intake_condition_vector|   species_in_vector|       sex_in_vector|   desexed_in_vector|prim_colour_in_vector|sec_colour_in_vector|mix_breed_bool_in_vector|prim_breed_in_vector|   town_found_vector|      ampm_in_vector|     month_in_vector|   weekday_in_vector| outcome_type_vector|outcome_subtype_vector|  desexed_out_vector|     ampm_out_vector|    month_out_vector|  weekday_out_vector|\n",
      "+---------+---------+--------------------+------------------+----------------+----------+------------+------+----------+--------------+-------------+-----------------+--------------------+-----------+----------+--------+-------+--------+----------+----------+---------------+---------------+-------------+-----------+----------+--------+--------+---------+-----------+------------------------+--------------------+-----------------------+--------------------+--------------------+--------------------+---------------------+--------------------+------------------------+--------------------+--------------------+--------------------+--------------------+--------------------+--------------------+----------------------+--------------------+--------------------+--------------------+--------------------+\n",
      "|A274546_1|   Sophie|Manchaca And Slau...|             Stray|          Normal|       Dog|        11.0|female|      true|      tricolor|      unknown|             true|             pointer|Austin (TX)|11/13/2013|06:16:00|     AM|     Nov|       Wed|05/25/2002|       Adoption|        unknown|         11.0|       true|11/16/2013|12:24:00|      PM|      Nov|        Sat|    {\"location_found_...|{\"intake_type_vec...|   {\"intake_conditio...|{\"species_in_vect...|{\"sex_in_vector\":...|{\"desexed_in_vect...| {\"prim_colour_in_...|{\"sec_colour_in_v...|    {\"mix_breed_bool_...|{\"prim_breed_in_v...|{\"town_found_vect...|{\"ampm_in_vector\"...|{\"month_in_vector...|{\"weekday_in_vect...|{\"outcome_type_ve...|  {\"outcome_subtype...|{\"desexed_out_vec...|{\"ampm_out_vector...|{\"month_out_vecto...|{\"weekday_out_vec...|\n",
      "|A298677_1|    Polly|          Manor (TX)|Euthanasia Request|            Sick|       Dog|        13.0|female|      true|           tan|      unknown|             true|     german shepherd| Manor (TX)|07/27/2015|12:44:00|     PM|     Jul|       Mon|03/17/2002|     Euthanasia|      Suffering|         13.0|       true|07/27/2015|01:59:00|      AM|      Jul|        Mon|    {\"location_found_...|{\"intake_type_vec...|   {\"intake_conditio...|{\"species_in_vect...|{\"sex_in_vector\":...|{\"desexed_in_vect...| {\"prim_colour_in_...|{\"sec_colour_in_v...|    {\"mix_breed_bool_...|{\"prim_breed_in_v...|{\"town_found_vect...|{\"ampm_in_vector\"...|{\"month_in_vector...|{\"weekday_in_vect...|{\"outcome_type_ve...|  {\"outcome_subtype...|{\"desexed_out_vec...|{\"ampm_out_vector...|{\"month_out_vecto...|{\"weekday_out_vec...|\n",
      "|A443875_1|Sebastian|         Austin (TX)|   Owner Surrender|          Normal|       Cat|        13.0|  male|      true|          gray|        white|             true|  domestic shorthair|Austin (TX)|04/07/2019|01:10:00|     AM|     Apr|       Sun|03/21/2006|       Adoption|        unknown|         13.0|       true|04/16/2019|04:03:00|      AM|      Apr|        Tue|    {\"location_found_...|{\"intake_type_vec...|   {\"intake_conditio...|{\"species_in_vect...|{\"sex_in_vector\":...|{\"desexed_in_vect...| {\"prim_colour_in_...|{\"sec_colour_in_v...|    {\"mix_breed_bool_...|{\"prim_breed_in_v...|{\"town_found_vect...|{\"ampm_in_vector\"...|{\"month_in_vector...|{\"weekday_in_vect...|{\"outcome_type_ve...|  {\"outcome_subtype...|{\"desexed_out_vec...|{\"ampm_out_vector...|{\"month_out_vecto...|{\"weekday_out_vec...|\n",
      "|A455146_1|     Ruby|Wagon Train Cv in...|             Stray|          Normal|       Dog|        10.0|female|      true|         black|        brown|             true|          rottweiler|Austin (TX)|12/28/2014|02:05:00|     AM|     Dec|       Sun|06/05/2004|       Transfer|        Partner|         10.0|       true|02/07/2015|11:10:00|      AM|      Feb|        Sat|    {\"location_found_...|{\"intake_type_vec...|   {\"intake_conditio...|{\"species_in_vect...|{\"sex_in_vector\":...|{\"desexed_in_vect...| {\"prim_colour_in_...|{\"sec_colour_in_v...|    {\"mix_breed_bool_...|{\"prim_breed_in_v...|{\"town_found_vect...|{\"ampm_in_vector\"...|{\"month_in_vector...|{\"weekday_in_vect...|{\"outcome_type_ve...|  {\"outcome_subtype...|{\"desexed_out_vec...|{\"ampm_out_vector...|{\"month_out_vecto...|{\"weekday_out_vec...|\n",
      "|A484080_1|    Seven|7200 W. Easy Wind...|     Public Assist|          Normal|       Dog|        11.0|female|      true|          gold|      unknown|             true|  labrador retriever|Austin (TX)|11/26/2016|11:25:00|     AM|     Nov|       Sat|08/27/2005|Return to Owner|        unknown|         11.0|       true|11/29/2016|12:48:00|      PM|      Nov|        Tue|    {\"location_found_...|{\"intake_type_vec...|   {\"intake_conditio...|{\"species_in_vect...|{\"sex_in_vector\":...|{\"desexed_in_vect...| {\"prim_colour_in_...|{\"sec_colour_in_v...|    {\"mix_breed_bool_...|{\"prim_breed_in_v...|{\"town_found_vect...|{\"ampm_in_vector\"...|{\"month_in_vector...|{\"weekday_in_vect...|{\"outcome_type_ve...|  {\"outcome_subtype...|{\"desexed_out_vec...|{\"ampm_out_vector...|{\"month_out_vecto...|{\"weekday_out_vec...|\n",
      "|A516244_2| Squeaker|         Austin (TX)|   Owner Surrender|          Normal|       Cat|        10.0|  male|      true|        orange|        white|             true|  domestic shorthair|Austin (TX)|11/07/2018|02:21:00|     AM|     Nov|       Wed|04/29/2008|       Adoption|        unknown|         10.0|       true|01/08/2019|02:40:00|      AM|      Jan|        Tue|    {\"location_found_...|{\"intake_type_vec...|   {\"intake_conditio...|{\"species_in_vect...|{\"sex_in_vector\":...|{\"desexed_in_vect...| {\"prim_colour_in_...|{\"sec_colour_in_v...|    {\"mix_breed_bool_...|{\"prim_breed_in_v...|{\"town_found_vect...|{\"ampm_in_vector\"...|{\"month_in_vector...|{\"weekday_in_vect...|{\"outcome_type_ve...|  {\"outcome_subtype...|{\"desexed_out_vec...|{\"ampm_out_vector...|{\"month_out_vecto...|{\"weekday_out_vec...|\n",
      "|A521990_1|     Moyo|E Cesar Chavez St...|             Stray|          Normal|       Dog|        12.0|female|      true|         black|        white|             true| chihuahua shorthair|Austin (TX)|05/12/2016|04:46:00|     AM|     May|       Thu|09/12/2003|       Adoption|        unknown|         12.0|       true|05/28/2016|03:52:00|      AM|      May|        Sat|    {\"location_found_...|{\"intake_type_vec...|   {\"intake_conditio...|{\"species_in_vect...|{\"sex_in_vector\":...|{\"desexed_in_vect...| {\"prim_colour_in_...|{\"sec_colour_in_v...|    {\"mix_breed_bool_...|{\"prim_breed_in_v...|{\"town_found_vect...|{\"ampm_in_vector\"...|{\"month_in_vector...|{\"weekday_in_vect...|{\"outcome_type_ve...|  {\"outcome_subtype...|{\"desexed_out_vec...|{\"ampm_out_vector...|{\"month_out_vecto...|{\"weekday_out_vec...|\n",
      "|A530690_1| Princess|5808 Mckinney Fal...|             Stray|          Normal|       Dog|        11.0|female|      true|        yellow|      unknown|             true|  labrador retriever|Austin (TX)|04/11/2019|03:47:00|     AM|     Apr|       Thu|06/15/2007|       Transfer|        Partner|         11.0|       true|04/11/2019|03:56:00|      AM|      Apr|        Thu|    {\"location_found_...|{\"intake_type_vec...|   {\"intake_conditio...|{\"species_in_vect...|{\"sex_in_vector\":...|{\"desexed_in_vect...| {\"prim_colour_in_...|{\"sec_colour_in_v...|    {\"mix_breed_bool_...|{\"prim_breed_in_v...|{\"town_found_vect...|{\"ampm_in_vector\"...|{\"month_in_vector...|{\"weekday_in_vect...|{\"outcome_type_ve...|  {\"outcome_subtype...|{\"desexed_out_vec...|{\"ampm_out_vector...|{\"month_out_vecto...|{\"weekday_out_vec...|\n",
      "|A531739_1|  Bentley|         Austin (TX)|   Owner Surrender|          Normal|       Dog|         6.0|  male|      true|         white|          tan|             true|             pointer|Austin (TX)|07/20/2014|12:00:00|     PM|     Jul|       Sun|02/29/2008|       Adoption|        unknown|          5.0|       true|11/30/2013|01:31:00|      AM|      Nov|        Sat|    {\"location_found_...|{\"intake_type_vec...|   {\"intake_conditio...|{\"species_in_vect...|{\"sex_in_vector\":...|{\"desexed_in_vect...| {\"prim_colour_in_...|{\"sec_colour_in_v...|    {\"mix_breed_bool_...|{\"prim_breed_in_v...|{\"town_found_vect...|{\"ampm_in_vector\"...|{\"month_in_vector...|{\"weekday_in_vect...|{\"outcome_type_ve...|  {\"outcome_subtype...|{\"desexed_out_vec...|{\"ampm_out_vector...|{\"month_out_vecto...|{\"weekday_out_vec...|\n",
      "|A535071_1|   Boomer|         Austin (TX)|             Stray|          Normal|       Dog|         8.0|  male|      true|         brown|        white|             true|       collie smooth|Austin (TX)|08/17/2017|05:58:00|     AM|     Aug|       Thu|12/24/2008|       Transfer|        Partner|          8.0|       true|08/24/2017|01:00:00|      AM|      Aug|        Thu|    {\"location_found_...|{\"intake_type_vec...|   {\"intake_conditio...|{\"species_in_vect...|{\"sex_in_vector\":...|{\"desexed_in_vect...| {\"prim_colour_in_...|{\"sec_colour_in_v...|    {\"mix_breed_bool_...|{\"prim_breed_in_v...|{\"town_found_vect...|{\"ampm_in_vector\"...|{\"month_in_vector...|{\"weekday_in_vect...|{\"outcome_type_ve...|  {\"outcome_subtype...|{\"desexed_out_vec...|{\"ampm_out_vector...|{\"month_out_vecto...|{\"weekday_out_vec...|\n",
      "|A560544_1|       Kb|Riverside And Con...|             Stray|          Normal|       Dog|         5.0|  male|      true|          blue|        white|             true|            pit bull|Austin (TX)|02/06/2014|06:31:00|     AM|     Feb|       Thu|07/09/2008|Return to Owner|        unknown|          5.0|       true|02/20/2014|09:51:00|      AM|      Feb|        Thu|    {\"location_found_...|{\"intake_type_vec...|   {\"intake_conditio...|{\"species_in_vect...|{\"sex_in_vector\":...|{\"desexed_in_vect...| {\"prim_colour_in_...|{\"sec_colour_in_v...|    {\"mix_breed_bool_...|{\"prim_breed_in_v...|{\"town_found_vect...|{\"ampm_in_vector\"...|{\"month_in_vector...|{\"weekday_in_vect...|{\"outcome_type_ve...|  {\"outcome_subtype...|{\"desexed_out_vec...|{\"ampm_out_vector...|{\"month_out_vecto...|{\"weekday_out_vec...|\n",
      "|A570786_1|  unknown|6203 N Capital Of...|             Stray|          Normal|       Dog|         7.0|  male|     false|         brown|        black|             true|           dachshund|Austin (TX)|03/09/2017|06:27:00|     AM|     Mar|       Thu|01/28/2010|Return to Owner|        unknown|          7.0|      false|03/10/2017|02:36:00|      AM|      Mar|        Fri|    {\"location_found_...|{\"intake_type_vec...|   {\"intake_conditio...|{\"species_in_vect...|{\"sex_in_vector\":...|{\"desexed_in_vect...| {\"prim_colour_in_...|{\"sec_colour_in_v...|    {\"mix_breed_bool_...|{\"prim_breed_in_v...|{\"town_found_vect...|{\"ampm_in_vector\"...|{\"month_in_vector...|{\"weekday_in_vect...|{\"outcome_type_ve...|  {\"outcome_subtype...|{\"desexed_out_vec...|{\"ampm_out_vector...|{\"month_out_vecto...|{\"weekday_out_vec...|\n",
      "|A608564_1|    Addie|Highway 290 And B...|             Stray|          Normal|       Dog|         7.0|female|      true|         brown|      unknown|             true|jack russell terrier|Austin (TX)|09/07/2018|02:15:00|     AM|     Sep|       Fri|02/26/2011|Return to Owner|        unknown|          7.0|       true|09/07/2018|06:51:00|      AM|      Sep|        Fri|    {\"location_found_...|{\"intake_type_vec...|   {\"intake_conditio...|{\"species_in_vect...|{\"sex_in_vector\":...|{\"desexed_in_vect...| {\"prim_colour_in_...|{\"sec_colour_in_v...|    {\"mix_breed_bool_...|{\"prim_breed_in_v...|{\"town_found_vect...|{\"ampm_in_vector\"...|{\"month_in_vector...|{\"weekday_in_vect...|{\"outcome_type_ve...|  {\"outcome_subtype...|{\"desexed_out_vec...|{\"ampm_out_vector...|{\"month_out_vecto...|{\"weekday_out_vec...|\n",
      "|A609229_1|     Lucy|         Austin (TX)|   Owner Surrender|          Normal|       Cat|         3.0|female|      true|         brown|        tabby|             true|  domestic shorthair|Austin (TX)|04/18/2015|11:00:00|     AM|     Apr|       Sat|05/05/2011|       Transfer|        Partner|          3.0|       true|04/30/2015|02:41:00|      AM|      Apr|        Thu|    {\"location_found_...|{\"intake_type_vec...|   {\"intake_conditio...|{\"species_in_vect...|{\"sex_in_vector\":...|{\"desexed_in_vect...| {\"prim_colour_in_...|{\"sec_colour_in_v...|    {\"mix_breed_bool_...|{\"prim_breed_in_v...|{\"town_found_vect...|{\"ampm_in_vector\"...|{\"month_in_vector...|{\"weekday_in_vect...|{\"outcome_type_ve...|  {\"outcome_subtype...|{\"desexed_out_vec...|{\"ampm_out_vector...|{\"month_out_vecto...|{\"weekday_out_vec...|\n",
      "|A615725_1|   Cookie|4604 Knottingwood...|             Stray|          Normal|       Dog|         3.0|female|      true|         white|      unknown|             true|            pit bull|Austin (TX)|09/27/2014|11:58:00|     AM|     Sep|       Sat|12/11/2010|Return to Owner|        unknown|          3.0|       true|09/27/2014|01:05:00|      AM|      Sep|        Sat|    {\"location_found_...|{\"intake_type_vec...|   {\"intake_conditio...|{\"species_in_vect...|{\"sex_in_vector\":...|{\"desexed_in_vect...| {\"prim_colour_in_...|{\"sec_colour_in_v...|    {\"mix_breed_bool_...|{\"prim_breed_in_v...|{\"town_found_vect...|{\"ampm_in_vector\"...|{\"month_in_vector...|{\"weekday_in_vect...|{\"outcome_type_ve...|  {\"outcome_subtype...|{\"desexed_out_vec...|{\"ampm_out_vector...|{\"month_out_vecto...|{\"weekday_out_vec...|\n",
      "|A629916_1|  Mooster|         Travis (TX)|     Public Assist|          Normal|       Dog|         5.0|female|      true|         white|     tricolor|             true| chihuahua shorthair|Travis (TX)|12/31/2015|11:54:00|     AM|     Dec|       Thu|12/15/2010|Return to Owner|        unknown|          5.0|       true|01/06/2016|02:11:00|      AM|      Jan|        Wed|    {\"location_found_...|{\"intake_type_vec...|   {\"intake_conditio...|{\"species_in_vect...|{\"sex_in_vector\":...|{\"desexed_in_vect...| {\"prim_colour_in_...|{\"sec_colour_in_v...|    {\"mix_breed_bool_...|{\"prim_breed_in_v...|{\"town_found_vect...|{\"ampm_in_vector\"...|{\"month_in_vector...|{\"weekday_in_vect...|{\"outcome_type_ve...|  {\"outcome_subtype...|{\"desexed_out_vec...|{\"ampm_out_vector...|{\"month_out_vecto...|{\"weekday_out_vec...|\n",
      "|A635060_1|    Henry|2406 W Parmer Ln ...|             Stray|          Normal|       Dog|         3.0|  male|      true|      tricolor|        black|             true|           dachshund|Austin (TX)|08/05/2015|10:47:00|     AM|     Aug|       Wed|06/18/2012|Return to Owner|        unknown|          3.0|       true|08/05/2015|05:24:00|      AM|      Aug|        Wed|    {\"location_found_...|{\"intake_type_vec...|   {\"intake_conditio...|{\"species_in_vect...|{\"sex_in_vector\":...|{\"desexed_in_vect...| {\"prim_colour_in_...|{\"sec_colour_in_v...|    {\"mix_breed_bool_...|{\"prim_breed_in_v...|{\"town_found_vect...|{\"ampm_in_vector\"...|{\"month_in_vector...|{\"weekday_in_vect...|{\"outcome_type_ve...|  {\"outcome_subtype...|{\"desexed_out_vec...|{\"ampm_out_vector...|{\"month_out_vecto...|{\"weekday_out_vec...|\n"
     ]
    },
    {
     "name": "stdout",
     "output_type": "stream",
     "text": [
      "|A635476_1|    Vince|3101 Shoreline Dr...|             Stray|          Normal|       Cat|         1.0|  male|      true|          blue|        tabby|             true|  domestic shorthair|Austin (TX)|12/17/2013|06:18:00|     AM|     Dec|       Tue|06/08/2012|       Transfer|           SCRP|          1.0|       true|12/22/2013|12:56:00|      PM|      Dec|        Sun|    {\"location_found_...|{\"intake_type_vec...|   {\"intake_conditio...|{\"species_in_vect...|{\"sex_in_vector\":...|{\"desexed_in_vect...| {\"prim_colour_in_...|{\"sec_colour_in_v...|    {\"mix_breed_bool_...|{\"prim_breed_in_v...|{\"town_found_vect...|{\"ampm_in_vector\"...|{\"month_in_vector...|{\"weekday_in_vect...|{\"outcome_type_ve...|  {\"outcome_subtype...|{\"desexed_out_vec...|{\"ampm_out_vector...|{\"month_out_vecto...|{\"weekday_out_vec...|\n",
      "|A636427_1|   *Haley|12Th And Airport ...|             Stray|          Normal|       Dog|         2.0|female|      true|         brown|        white|             true|            pit bull|Austin (TX)|04/18/2014|11:20:00|     AM|     Apr|       Fri|09/05/2011|       Adoption|        unknown|          2.0|       true|06/18/2014|05:16:00|      AM|      Jun|        Wed|    {\"location_found_...|{\"intake_type_vec...|   {\"intake_conditio...|{\"species_in_vect...|{\"sex_in_vector\":...|{\"desexed_in_vect...| {\"prim_colour_in_...|{\"sec_colour_in_v...|    {\"mix_breed_bool_...|{\"prim_breed_in_v...|{\"town_found_vect...|{\"ampm_in_vector\"...|{\"month_in_vector...|{\"weekday_in_vect...|{\"outcome_type_ve...|  {\"outcome_subtype...|{\"desexed_out_vec...|{\"ampm_out_vector...|{\"month_out_vecto...|{\"weekday_out_vec...|\n",
      "|A638551_1|  Almonzo|Long Day Dr & Nig...|             Stray|          Normal|       Cat|         2.0|  male|      true|         black|        white|             true|   domestic longhair|Austin (TX)|08/09/2015|03:46:00|     AM|     Aug|       Sun|08/18/2012|       Adoption|        unknown|          3.0|       true|08/30/2015|01:22:00|      AM|      Aug|        Sun|    {\"location_found_...|{\"intake_type_vec...|   {\"intake_conditio...|{\"species_in_vect...|{\"sex_in_vector\":...|{\"desexed_in_vect...| {\"prim_colour_in_...|{\"sec_colour_in_v...|    {\"mix_breed_bool_...|{\"prim_breed_in_v...|{\"town_found_vect...|{\"ampm_in_vector\"...|{\"month_in_vector...|{\"weekday_in_vect...|{\"outcome_type_ve...|  {\"outcome_subtype...|{\"desexed_out_vec...|{\"ampm_out_vector...|{\"month_out_vecto...|{\"weekday_out_vec...|\n",
      "+---------+---------+--------------------+------------------+----------------+----------+------------+------+----------+--------------+-------------+-----------------+--------------------+-----------+----------+--------+-------+--------+----------+----------+---------------+---------------+-------------+-----------+----------+--------+--------+---------+-----------+------------------------+--------------------+-----------------------+--------------------+--------------------+--------------------+---------------------+--------------------+------------------------+--------------------+--------------------+--------------------+--------------------+--------------------+--------------------+----------------------+--------------------+--------------------+--------------------+--------------------+\n",
      "only showing top 20 rows\n",
      "\n"
     ]
    }
   ],
   "source": [
    "phase2_df.show()"
   ]
  },
  {
   "cell_type": "code",
   "execution_count": 22,
   "metadata": {},
   "outputs": [
    {
     "name": "stdout",
     "output_type": "stream",
     "text": [
      "Decision Tree - Test dataset: Accuracy=0.8655889610716624\n",
      "Decision Tree - Test dataset: F1=0.8593474342142916\n",
      "Naive Bayes - Test dataset: Accuracy=0.5639321146195296\n",
      "Naive Bayes - Test dataset: F1=0.5997962921369467\n",
      "Logistic Regression - Test dataset: Accuracy=0.43103187792717934\n",
      "Logistic Regression - Test dataset: F1=0.32140104048253065\n"
     ]
    },
    {
     "data": {
      "text/plain": [
       "phase2_df: org.apache.spark.sql.DataFrame = [id_in: string, name_in: string ... 47 more fields]\n",
       "selected_join: org.apache.spark.sql.DataFrame = [id_in: string, intake_type: string ... 9 more fields]\n",
       "target_feat: String = outcome_type\n",
       "assembled_feat: String = assembled_features\n",
       "result: org.apache.spark.sql.DataFrame = [id_in: string, intake_type: string ... 19 more fields]\n",
       "indexers: Array[org.apache.spark.ml.feature.StringIndexer] = Array(strIdx_af1b51cb0715, strIdx_4cc734162f64, strIdx_fa3f961b71bc, strIdx_fb0ada7566f6, strIdx_bdebe2d98620, strIdx_832c0d42be02, strIdx_a206ed346197, strIdx_d662abea567e, strIdx_ee6238e98c62)\n",
       "target_model: org.apache.spark.ml.feature.StringIndexerModel = strIdx_39e387c535a4\n",
       "assembler: org.apache.spark.ml.feature.VectorAssembler = vecAssembler_11a10b7b8b17\n",
       "..."
      ]
     },
     "execution_count": 22,
     "metadata": {},
     "output_type": "execute_result"
    }
   ],
   "source": [
    "// Read Phase2 csv\n",
    "val phase2_df = read_phase2_csv(\"encoded_output\")\n",
    "\n",
    "// Select features\n",
    "val selected_join = phase2_df.select(\n",
    "              \"id_in\",\n",
    "              \"intake_type\",\n",
    "              \"intake_condition\",\n",
    "              \"species_in\",\n",
    "              \"age_years_in\",\n",
    "              \"sex_in\",\n",
    "              \"desexed_out\",\n",
    "              \"prim_colour_in\",\n",
    "              \"prim_breed_in\",\n",
    "              \"outcome_type\",\n",
    "              \"town_found\"\n",
    ")  \n",
    "\n",
    "// Set target feature\n",
    "val target_feat = \"outcome_type\"\n",
    "val assembled_feat = \"assembled_features\"\n",
    "\n",
    "// Encode and index features\n",
    "val (result, indexers, target_model, assembler) = encode_features_ml(selected_join, target_feat, assembled_feat)\n",
    "\n",
    "// Create train and test dataset\n",
    "val Array(train_data, test_data) = result.randomSplit(Array(0.80, 0.20))\n",
    "\n",
    "// Decision Tree (Random Forest) Algorithm\n",
    "val decision_tree_model = train_decision_tree_model(train_data, target_feat, assembled_feat)\n",
    "// Test model\n",
    "val decision_tree_prediction = test_decision_tree_model(test_data, decision_tree_model, target_model)\n",
    "// Evaluate model\n",
    "evaluate_prediction(\"Decision Tree\", decision_tree_prediction, target_feat, \"prediction\") \n",
    "\n",
    "// Use Naive Bayes Algorithm\n",
    "val naive_bayes_model = train_naive_bayes_model(train_data, target_feat, assembled_feat)\n",
    "// Test model\n",
    "val naive_bayes_prediction = test_naive_bayes_model(test_data, naive_bayes_model, target_model)\n",
    "// Evaluate model\n",
    "evaluate_prediction(\"Naive Bayes\", naive_bayes_prediction, target_feat, \"prediction\")\n",
    "\n",
    "// Use Logistic Regression Algorithm\n",
    "val lr_model = train_lr_model(train_data, target_feat, assembled_feat)\n",
    "// Test model\n",
    "val lr_prediction = test_lr_model(test_data, lr_model, target_model)\n",
    "// Evaluate model\n",
    "evaluate_prediction(\"Logistic Regression\", lr_prediction, target_feat, \"prediction\")"
   ]
  },
  {
   "cell_type": "code",
   "execution_count": 23,
   "metadata": {},
   "outputs": [
    {
     "name": "stdout",
     "output_type": "stream",
     "text": [
      "+---------+---------------+----------------+----------+------------+------+-----------+--------------+-------------------+---------------+--------------------+-----------------+----------------------+----------------+------------+-----------------+--------------------+-------------------+------------------+----------------+--------------------+--------------------+--------------------+----------+------------------+\n",
      "|    id_in|    intake_type|intake_condition|species_in|age_years_in|sex_in|desexed_out|prim_colour_in|      prim_breed_in|   outcome_type|          town_found|intake_type_index|intake_condition_index|species_in_index|sex_in_index|desexed_out_index|prim_colour_in_index|prim_breed_in_index|outcome_type_index|town_found_index|  assembled_features|       rawPrediction|         probability|prediction|prediction_decoded|\n",
      "+---------+---------------+----------------+----------+------------+------+-----------+--------------+-------------------+---------------+--------------------+-----------------+----------------------+----------------+------------+-----------------+--------------------+-------------------+------------------+----------------+--------------------+--------------------+--------------------+----------+------------------+\n",
      "|A280390_1|          Stray|            Aged|       Dog|        16.0|  male|       true|           tan|chihuahua shorthair|Return to Owner|         Austin (TX)|              0.0|                   4.0|             0.0|         0.0|              0.0|                 4.0|                3.0|               2.0|             0.0|(9,[1,5,6,7],[4.0...|[0.64371190799198...|[0.16092797699799...|       2.0|   Return to Owner|\n",
      "|A346599_1|          Stray|            Sick|       Cat|        11.0|  male|      false|         black| domestic shorthair|       Transfer|         Austin (TX)|              0.0|                   2.0|             1.0|         0.0|              1.0|                 0.0|                0.0|               1.0|             0.0|(9,[1,2,4,7],[2.0...|[0.14564260019363...|[0.03641065004840...|       1.0|          Transfer|\n",
      "|A381217_1|          Stray|            Sick|       Dog|        13.0|  male|       true|         white|   miniature poodle|       Transfer|         Austin (TX)|              0.0|                   2.0|             0.0|         0.0|              0.0|                 2.0|               13.0|               1.0|             0.0|(9,[1,5,6,7],[2.0...|[0.64371190799198...|[0.16092797699799...|       1.0|          Transfer|\n",
      "|A440082_1|          Stray|          Normal|       Dog|        12.0|  male|       true|         brown|              boxer|Return to Owner|         Austin (TX)|              0.0|                   0.0|             0.0|         0.0|              0.0|                 1.0|               11.0|               2.0|             0.0|(9,[5,6,7],[1.0,1...|[0.64371190799198...|[0.16092797699799...|       2.0|   Return to Owner|\n",
      "|A445392_1|          Stray|          Normal|       Dog|        12.0|  male|       true|         brown|           pit bull|Return to Owner|         Austin (TX)|              0.0|                   0.0|             0.0|         0.0|              0.0|                 1.0|                1.0|               2.0|             0.0|(9,[5,6,7],[1.0,1...|[0.64371190799198...|[0.16092797699799...|       2.0|   Return to Owner|\n",
      "|A454486_1|          Stray|          Normal|       Dog|         8.0|female|       true|         white|            maltese|Return to Owner|         Austin (TX)|              0.0|                   0.0|             0.0|         1.0|              0.0|                 2.0|               36.0|               2.0|             0.0|(9,[3,5,6,7],[1.0...|[0.64371190799198...|[0.16092797699799...|       2.0|   Return to Owner|\n",
      "|A461171_1|          Stray|          Normal|       Dog|        10.0|  male|       true|     chocolate|           pit bull|       Transfer|          Valle (TX)|              0.0|                   0.0|             0.0|         0.0|              0.0|                12.0|                1.0|               1.0|             2.0|(9,[5,6,7,8],[12....|[0.64371190799198...|[0.16092797699799...|       2.0|   Return to Owner|\n",
      "|A462580_6|  Public Assist|          Normal|       Dog|        10.0|  male|       true|         brown|           pit bull|Return to Owner|         Austin (TX)|              2.0|                   0.0|             0.0|         0.0|              0.0|                 1.0|                1.0|               2.0|             0.0|(9,[0,5,6,7],[2.0...|[0.17158252977878...|[0.04289563244469...|       2.0|   Return to Owner|\n",
      "|A465930_1|          Stray|          Normal|       Dog|        11.0|female|       true|          buff| labrador retriever|Return to Owner|         Austin (TX)|              0.0|                   0.0|             0.0|         1.0|              0.0|                17.0|                2.0|               2.0|             0.0|(9,[3,5,6,7],[1.0...|[0.64371190799198...|[0.16092797699799...|       2.0|   Return to Owner|\n",
      "|A471905_1|  Public Assist|          Normal|       Dog|        15.0|female|      false|         white|    american eskimo|Return to Owner|         Austin (TX)|              2.0|                   0.0|             0.0|         1.0|              1.0|                 2.0|              124.0|               2.0|             0.0|[2.0,0.0,0.0,1.0,...|[0.06435029250132...|[0.01608757312533...|       2.0|   Return to Owner|\n",
      "|A474001_1|Owner Surrender|          Normal|       Cat|        11.0|female|       true|         white|  domestic longhair|       Adoption|Outside Jurisdiction|              1.0|                   0.0|             1.0|         1.0|              0.0|                 2.0|                8.0|               0.0|             5.0|[1.0,0.0,1.0,1.0,...|[3.64371190799198...|[0.91092797699799...|       0.0|          Adoption|\n",
      "|A476054_1|          Stray|          Normal|       Dog|         6.0|female|       true|         black| labrador retriever|       Adoption|         Austin (TX)|              0.0|                   0.0|             0.0|         1.0|              0.0|                 0.0|                2.0|               0.0|             0.0| (9,[3,6],[1.0,2.0])|[3.64371190799198...|[0.91092797699799...|       0.0|          Adoption|\n",
      "|A489415_1|Owner Surrender|          Normal|       Cat|         9.0|  male|       true|         white| domestic shorthair|       Adoption|         Austin (TX)|              1.0|                   0.0|             1.0|         0.0|              0.0|                 2.0|                0.0|               0.0|             0.0|(9,[0,2,5],[1.0,1...|[3.64371190799198...|[0.91092797699799...|       0.0|          Adoption|\n",
      "|A491814_2|          Stray|          Normal|       Dog|         7.0|female|       true|         white|        rat terrier|Return to Owner|         Austin (TX)|              0.0|                   0.0|             0.0|         1.0|              0.0|                 2.0|               20.0|               2.0|             0.0|(9,[3,5,6,7],[1.0...|[0.64371190799198...|[0.16092797699799...|       2.0|   Return to Owner|\n",
      "|A504801_1|          Stray|          Normal|       Cat|         7.0|  male|       true|          blue| domestic shorthair|Return to Owner|         Austin (TX)|              0.0|                   0.0|             1.0|         0.0|              0.0|                 3.0|                0.0|               2.0|             0.0|(9,[2,5,7],[1.0,3...|[0.64371190799198...|[0.16092797699799...|       1.0|          Transfer|\n",
      "|A531739_1|Owner Surrender|          Normal|       Dog|         6.0|  male|       true|         white|            pointer|       Adoption|         Austin (TX)|              1.0|                   0.0|             0.0|         0.0|              0.0|                 2.0|               26.0|               0.0|             0.0|(9,[0,5,6],[1.0,2...|[3.64371190799198...|[0.91092797699799...|       0.0|          Adoption|\n",
      "|A533602_2|          Stray|          Normal|       Dog|         9.0|female|       true|          buff| labrador retriever|       Adoption|         Austin (TX)|              0.0|                   0.0|             0.0|         1.0|              0.0|                17.0|                2.0|               0.0|             0.0|(9,[3,5,6],[1.0,1...|[3.64371190799198...|[0.91092797699799...|       0.0|          Adoption|\n",
      "|A547015_1|          Stray|          Normal|       Dog|         6.0|  male|       true|          gold|          pekingese|       Adoption|         Austin (TX)|              0.0|                   0.0|             0.0|         0.0|              0.0|                22.0|               70.0|               0.0|             0.0|(9,[5,6],[22.0,70...|[3.64371190799198...|[0.91092797699799...|       0.0|          Adoption|\n",
      "|A549098_2|  Public Assist|          Normal|       Dog|         5.0|female|       true|           red|           pit bull|Return to Owner|         Austin (TX)|              2.0|                   0.0|             0.0|         1.0|              0.0|                 6.0|                1.0|               2.0|             0.0|[2.0,0.0,0.0,1.0,...|[0.17158252977878...|[0.04289563244469...|       2.0|   Return to Owner|\n",
      "|A550644_1|Owner Surrender|          Normal|       Cat|         7.0|  male|       true|          lynx| american shorthair|Return to Owner|         Austin (TX)|              1.0|                   0.0|             1.0|         0.0|              0.0|                18.0|               48.0|               2.0|             0.0|[1.0,0.0,1.0,0.0,...|[0.64371190799198...|[0.16092797699799...|       1.0|          Transfer|\n",
      "+---------+---------------+----------------+----------+------------+------+-----------+--------------+-------------------+---------------+--------------------+-----------------+----------------------+----------------+------------+-----------------+--------------------+-------------------+------------------+----------------+--------------------+--------------------+--------------------+----------+------------------+\n",
      "only showing top 20 rows\n",
      "\n"
     ]
    }
   ],
   "source": [
    "decision_tree_prediction.show()"
   ]
  },
  {
   "cell_type": "code",
   "execution_count": null,
   "metadata": {},
   "outputs": [],
   "source": []
  }
 ],
 "metadata": {
  "colab": {
   "collapsed_sections": [],
   "name": "FIT5202_WranglePipeline.ipynb",
   "provenance": [],
   "version": "0.3.2"
  },
  "kernelspec": {
   "display_name": "spylon-kernel",
   "language": "scala",
   "name": "spylon-kernel"
  },
  "language_info": {
   "codemirror_mode": "text/x-scala",
   "file_extension": ".scala",
   "help_links": [
    {
     "text": "MetaKernel Magics",
     "url": "https://metakernel.readthedocs.io/en/latest/source/README.html"
    }
   ],
   "mimetype": "text/x-scala",
   "name": "scala",
   "pygments_lexer": "scala",
   "version": "0.4.1"
  }
 },
 "nbformat": 4,
 "nbformat_minor": 1
}
