{
 "cells": [
  {
   "cell_type": "markdown",
   "metadata": {},
   "source": [
    "## Exploratory Data Analysis"
   ]
  },
  {
   "cell_type": "code",
   "execution_count": 1,
   "metadata": {},
   "outputs": [
    {
     "data": {
      "text/plain": [
       "Intitializing Scala interpreter ..."
      ]
     },
     "metadata": {},
     "output_type": "display_data"
    },
    {
     "data": {
      "text/plain": [
       "Spark Web UI available at http://7e255b8177d7:4040\n",
       "SparkContext available as 'sc' (version = 2.4.3, master = local[*], app id = local-1560057547260)\n",
       "SparkSession available as 'spark'\n"
      ]
     },
     "metadata": {},
     "output_type": "display_data"
    },
    {
     "name": "stdout",
     "output_type": "stream",
     "text": [
      "2019-06-09 05:19:16,614 WARN  [Thread-4] sql.SparkSession$Builder (Logging.scala:logWarning(66)) - Using an existing SparkSession; some configuration may not take effect.\n"
     ]
    },
    {
     "data": {
      "text/plain": [
       "import org.apache.spark.sql._\n",
       "spark: org.apache.spark.sql.SparkSession = org.apache.spark.sql.SparkSession@2717682d\n"
      ]
     },
     "execution_count": 1,
     "metadata": {},
     "output_type": "execute_result"
    }
   ],
   "source": [
    "//create a SparkSession \n",
    "import org.apache.spark.sql._\n",
    "\n",
    "val spark = {\n",
    "  SparkSession.builder()\n",
    "    .master(\"local[*]\")\n",
    "    .getOrCreate()\n",
    "}"
   ]
  },
  {
   "cell_type": "code",
   "execution_count": 2,
   "metadata": {},
   "outputs": [
    {
     "name": "stdout",
     "output_type": "stream",
     "text": [
      "2019-06-09 05:19:23,803 WARN  [Thread-4] util.Utils (Logging.scala:logWarning(66)) - Truncated the string representation of a plan since it was too large. This behavior can be adjusted by setting 'spark.debug.maxToStringFields' in SparkEnv.conf.\n",
      "+---------+---------+--------------------+------------------+----------------+----------+------------+------+----------+--------------+-------------+-----------------+--------------------+----------+--------+-------+--------+----------+----------+---------------+---------------+-------------+-----------+----------+--------+--------+---------+-----------+\n",
      "|    id_in|  name_in|   location_found_in|       intake_type|intake_condition|species_in|age_years_in|sex_in|desexed_in|prim_colour_in|sec_colour_in|mix_breed_bool_in|       prim_breed_in|   date_in| time_in|ampm_in|month_in|weekday_in|    dob_in|   outcome_type|outcome_subtype|age_years_out|desexed_out|  date_out|time_out|ampm_out|month_out|weekday_out|\n",
      "+---------+---------+--------------------+------------------+----------------+----------+------------+------+----------+--------------+-------------+-----------------+--------------------+----------+--------+-------+--------+----------+----------+---------------+---------------+-------------+-----------+----------+--------+--------+---------+-----------+\n",
      "|A274546_1|   Sophie|Manchaca And Slau...|             Stray|          Normal|       Dog|        11.0|female|      true|      tricolor|      unknown|             true|             pointer|11/13/2013|06:16:00|     AM|     Nov|       Wed|05/25/2002|       Adoption|        unknown|         11.0|       true|11/16/2013|12:24:00|      PM|      Nov|        Sat|\n",
      "|A298677_1|    Polly|          Manor (TX)|Euthanasia Request|            Sick|       Dog|        13.0|female|      true|           tan|      unknown|             true|     german shepherd|07/27/2015|12:44:00|     PM|     Jul|       Mon|03/17/2002|     Euthanasia|      Suffering|         13.0|       true|07/27/2015|01:59:00|      AM|      Jul|        Mon|\n",
      "|A443875_1|Sebastian|         Austin (TX)|   Owner Surrender|          Normal|       Cat|        13.0|  male|      true|          gray|        white|             true|  domestic shorthair|04/07/2019|01:10:00|     AM|     Apr|       Sun|03/21/2006|       Adoption|        unknown|         13.0|       true|04/16/2019|04:03:00|      AM|      Apr|        Tue|\n",
      "|A455146_1|     Ruby|Wagon Train Cv in...|             Stray|          Normal|       Dog|        10.0|female|      true|         black|        brown|             true|          rottweiler|12/28/2014|02:05:00|     AM|     Dec|       Sun|06/05/2004|       Transfer|        Partner|         10.0|       true|02/07/2015|11:10:00|      AM|      Feb|        Sat|\n",
      "|A484080_1|    Seven|7200 W. Easy Wind...|     Public Assist|          Normal|       Dog|        11.0|female|      true|          gold|      unknown|             true|  labrador retriever|11/26/2016|11:25:00|     AM|     Nov|       Sat|08/27/2005|Return to Owner|        unknown|         11.0|       true|11/29/2016|12:48:00|      PM|      Nov|        Tue|\n",
      "|A516244_2| Squeaker|         Austin (TX)|   Owner Surrender|          Normal|       Cat|        10.0|  male|      true|        orange|        white|             true|  domestic shorthair|11/07/2018|02:21:00|     AM|     Nov|       Wed|04/29/2008|       Adoption|        unknown|         10.0|       true|01/08/2019|02:40:00|      AM|      Jan|        Tue|\n",
      "|A521990_1|     Moyo|E Cesar Chavez St...|             Stray|          Normal|       Dog|        12.0|female|      true|         black|        white|             true| chihuahua shorthair|05/12/2016|04:46:00|     AM|     May|       Thu|09/12/2003|       Adoption|        unknown|         12.0|       true|05/28/2016|03:52:00|      AM|      May|        Sat|\n",
      "|A530690_1| Princess|5808 Mckinney Fal...|             Stray|          Normal|       Dog|        11.0|female|      true|        yellow|      unknown|             true|  labrador retriever|04/11/2019|03:47:00|     AM|     Apr|       Thu|06/15/2007|       Transfer|        Partner|         11.0|       true|04/11/2019|03:56:00|      AM|      Apr|        Thu|\n",
      "|A531739_1|  Bentley|         Austin (TX)|   Owner Surrender|          Normal|       Dog|         6.0|  male|      true|         white|          tan|             true|             pointer|07/20/2014|12:00:00|     PM|     Jul|       Sun|02/29/2008|       Adoption|        unknown|          5.0|       true|11/30/2013|01:31:00|      AM|      Nov|        Sat|\n",
      "|A535071_1|   Boomer|         Austin (TX)|             Stray|          Normal|       Dog|         8.0|  male|      true|         brown|        white|             true|       collie smooth|08/17/2017|05:58:00|     AM|     Aug|       Thu|12/24/2008|       Transfer|        Partner|          8.0|       true|08/24/2017|01:00:00|      AM|      Aug|        Thu|\n",
      "|A560544_1|       Kb|Riverside And Con...|             Stray|          Normal|       Dog|         5.0|  male|      true|          blue|        white|             true|            pit bull|02/06/2014|06:31:00|     AM|     Feb|       Thu|07/09/2008|Return to Owner|        unknown|          5.0|       true|02/20/2014|09:51:00|      AM|      Feb|        Thu|\n",
      "|A570786_1|  unknown|6203 N Capital Of...|             Stray|          Normal|       Dog|         7.0|  male|     false|         brown|        black|             true|           dachshund|03/09/2017|06:27:00|     AM|     Mar|       Thu|01/28/2010|Return to Owner|        unknown|          7.0|      false|03/10/2017|02:36:00|      AM|      Mar|        Fri|\n",
      "|A608564_1|    Addie|Highway 290 And B...|             Stray|          Normal|       Dog|         7.0|female|      true|         brown|      unknown|             true|jack russell terrier|09/07/2018|02:15:00|     AM|     Sep|       Fri|02/26/2011|Return to Owner|        unknown|          7.0|       true|09/07/2018|06:51:00|      AM|      Sep|        Fri|\n",
      "|A609229_1|     Lucy|         Austin (TX)|   Owner Surrender|          Normal|       Cat|         3.0|female|      true|         brown|        tabby|             true|  domestic shorthair|04/18/2015|11:00:00|     AM|     Apr|       Sat|05/05/2011|       Transfer|        Partner|          3.0|       true|04/30/2015|02:41:00|      AM|      Apr|        Thu|\n",
      "|A615725_1|   Cookie|4604 Knottingwood...|             Stray|          Normal|       Dog|         3.0|female|      true|         white|      unknown|             true|            pit bull|09/27/2014|11:58:00|     AM|     Sep|       Sat|12/11/2010|Return to Owner|        unknown|          3.0|       true|09/27/2014|01:05:00|      AM|      Sep|        Sat|\n",
      "|A629916_1|  Mooster|         Travis (TX)|     Public Assist|          Normal|       Dog|         5.0|female|      true|         white|     tricolor|             true| chihuahua shorthair|12/31/2015|11:54:00|     AM|     Dec|       Thu|12/15/2010|Return to Owner|        unknown|          5.0|       true|01/06/2016|02:11:00|      AM|      Jan|        Wed|\n",
      "|A635060_1|    Henry|2406 W Parmer Ln ...|             Stray|          Normal|       Dog|         3.0|  male|      true|      tricolor|        black|             true|           dachshund|08/05/2015|10:47:00|     AM|     Aug|       Wed|06/18/2012|Return to Owner|        unknown|          3.0|       true|08/05/2015|05:24:00|      AM|      Aug|        Wed|\n",
      "|A635476_1|    Vince|3101 Shoreline Dr...|             Stray|          Normal|       Cat|         1.0|  male|      true|          blue|        tabby|             true|  domestic shorthair|12/17/2013|06:18:00|     AM|     Dec|       Tue|06/08/2012|       Transfer|           SCRP|          1.0|       true|12/22/2013|12:56:00|      PM|      Dec|        Sun|\n",
      "|A636427_1|   *Haley|12Th And Airport ...|             Stray|          Normal|       Dog|         2.0|female|      true|         brown|        white|             true|            pit bull|04/18/2014|11:20:00|     AM|     Apr|       Fri|09/05/2011|       Adoption|        unknown|          2.0|       true|06/18/2014|05:16:00|      AM|      Jun|        Wed|\n",
      "|A638551_1|  Almonzo|Long Day Dr & Nig...|             Stray|          Normal|       Cat|         2.0|  male|      true|         black|        white|             true|   domestic longhair|08/09/2015|03:46:00|     AM|     Aug|       Sun|08/18/2012|       Adoption|        unknown|          3.0|       true|08/30/2015|01:22:00|      AM|      Aug|        Sun|\n",
      "+---------+---------+--------------------+------------------+----------------+----------+------------+------+----------+--------------+-------------+-----------------+--------------------+----------+--------+-------+--------+----------+----------+---------------+---------------+-------------+-----------+----------+--------+--------+---------+-----------+\n",
      "only showing top 20 rows\n",
      "\n"
     ]
    },
    {
     "data": {
      "text/plain": [
       "phase2: org.apache.spark.sql.DataFrame = [_c0: string, _c1: string ... 26 more fields]\n",
       "colnames: Array[String] = Array(id_in, name_in, location_found_in, intake_type, intake_condition, species_in, age_years_in, sex_in, desexed_in, prim_colour_in, sec_colour_in, mix_breed_bool_in, prim_breed_in, date_in, time_in, ampm_in, month_in, weekday_in, dob_in, outcome_type, outcome_subtype, age_years_out, desexed_out, date_out, time_out, ampm_out, month_out, weekday_out)\n",
       "animal_df: org.apache.spark.sql.DataFrame = [id_in: string, name_in: string ... 26 more fields]\n"
      ]
     },
     "execution_count": 2,
     "metadata": {},
     "output_type": "execute_result"
    }
   ],
   "source": [
    "//read data from Phase 2 wrangling task.\n",
    "//name the columns required for EDA\n",
    "val phase2 = spark.read.format(\"csv\").load(\"phase2_output\")\n",
    "\n",
    "val colnames = Array(\"id_in\",\"name_in\",\"location_found_in\",\"intake_type\",\"intake_condition\",\"species_in\",\"age_years_in\",\n",
    "                     \"sex_in\",\"desexed_in\",\"prim_colour_in\",\"sec_colour_in\",\"mix_breed_bool_in\",\"prim_breed_in\",\"date_in\",\n",
    "                     \"time_in\",\"ampm_in\",\"month_in\",\"weekday_in\",\"dob_in\",\"outcome_type\",\"outcome_subtype\",\"age_years_out\",\n",
    "                     \"desexed_out\",\"date_out\",\"time_out\",\"ampm_out\",\"month_out\",\"weekday_out\")\n",
    "\n",
    "val animal_df = phase2.toDF(colnames: _*)\n",
    "animal_df.show()"
   ]
  },
  {
   "cell_type": "markdown",
   "metadata": {},
   "source": [
    "Check the types of animals being brought to the shelter and why:"
   ]
  },
  {
   "cell_type": "code",
   "execution_count": 5,
   "metadata": {},
   "outputs": [
    {
     "name": "stdout",
     "output_type": "stream",
     "text": [
      "+----------+-----+\n",
      "|species_in|count|\n",
      "+----------+-----+\n",
      "|       Dog|56954|\n",
      "|       Cat|36476|\n",
      "|     Other| 5317|\n",
      "|      Bird|  462|\n",
      "| Livestock|   15|\n",
      "+----------+-----+\n",
      "\n"
     ]
    },
    {
     "data": {
      "text/plain": [
       "antype: org.apache.spark.sql.Dataset[org.apache.spark.sql.Row] = [species_in: string, count: bigint]\n"
      ]
     },
     "execution_count": 5,
     "metadata": {},
     "output_type": "execute_result"
    }
   ],
   "source": [
    "val antype = animal_df.\n",
    "  groupBy('species_in).\n",
    "  agg(count('id_in) as \"count\").\n",
    "  orderBy(desc(\"count\"))\n",
    "antype.show()"
   ]
  },
  {
   "cell_type": "code",
   "execution_count": 6,
   "metadata": {},
   "outputs": [
    {
     "name": "stdout",
     "output_type": "stream",
     "text": [
      "+------------------+-----+\n",
      "|       intake_type|count|\n",
      "+------------------+-----+\n",
      "|             Stray|69844|\n",
      "|   Owner Surrender|18828|\n",
      "|     Public Assist| 6249|\n",
      "|          Wildlife| 4048|\n",
      "|Euthanasia Request|  255|\n",
      "+------------------+-----+\n",
      "\n"
     ]
    },
    {
     "data": {
      "text/plain": [
       "intake: org.apache.spark.sql.Dataset[org.apache.spark.sql.Row] = [intake_type: string, count: bigint]\n"
      ]
     },
     "execution_count": 6,
     "metadata": {},
     "output_type": "execute_result"
    }
   ],
   "source": [
    "val intake = animal_df.\n",
    "  groupBy('intake_type).\n",
    "  agg(count('id_in) as \"count\").\n",
    "  orderBy(desc(\"count\"))\n",
    "intake.show()"
   ]
  },
  {
   "cell_type": "markdown",
   "metadata": {},
   "source": [
    "What outcomes are we aiming to predict:"
   ]
  },
  {
   "cell_type": "code",
   "execution_count": 7,
   "metadata": {},
   "outputs": [
    {
     "name": "stdout",
     "output_type": "stream",
     "text": [
      "+---------------+-----+\n",
      "|   outcome_type|count|\n",
      "+---------------+-----+\n",
      "|       Adoption|42760|\n",
      "|       Transfer|29415|\n",
      "|Return to Owner|18226|\n",
      "|     Euthanasia| 7104|\n",
      "|           Died|  892|\n",
      "|      Rto-Adopt|  388|\n",
      "|       Disposal|  359|\n",
      "|        Missing|   54|\n",
      "|       Relocate|   18|\n",
      "|        unknown|    8|\n",
      "+---------------+-----+\n",
      "\n"
     ]
    },
    {
     "data": {
      "text/plain": [
       "outcome: org.apache.spark.sql.Dataset[org.apache.spark.sql.Row] = [outcome_type: string, count: bigint]\n"
      ]
     },
     "execution_count": 7,
     "metadata": {},
     "output_type": "execute_result"
    }
   ],
   "source": [
    "val outcome = animal_df.\n",
    "  groupBy('outcome_type).\n",
    "  agg(count('id_in) as \"count\").\n",
    "  orderBy(desc(\"count\"))\n",
    "outcome.show()"
   ]
  },
  {
   "cell_type": "markdown",
   "metadata": {},
   "source": [
    "When are animals coming in to and out of the shelter:"
   ]
  },
  {
   "cell_type": "code",
   "execution_count": 18,
   "metadata": {},
   "outputs": [
    {
     "name": "stdout",
     "output_type": "stream",
     "text": [
      "+--------+-----+\n",
      "|month_in|count|\n",
      "+--------+-----+\n",
      "|     May|10425|\n",
      "|     Oct| 9223|\n",
      "|     Jun| 9190|\n",
      "|     Apr| 8812|\n",
      "|     Mar| 8266|\n",
      "|     Jul| 8195|\n",
      "|     Sep| 8109|\n",
      "|     Aug| 7895|\n",
      "|     Nov| 7846|\n",
      "|     Dec| 7249|\n",
      "|     Jan| 7193|\n",
      "|     Feb| 6821|\n",
      "+--------+-----+\n",
      "\n"
     ]
    },
    {
     "data": {
      "text/plain": [
       "month: org.apache.spark.sql.Dataset[org.apache.spark.sql.Row] = [month_in: string, count: bigint]\n"
      ]
     },
     "execution_count": 18,
     "metadata": {},
     "output_type": "execute_result"
    }
   ],
   "source": [
    "val in = animal_df.\n",
    "  groupBy('month_in).\n",
    "  agg(count('id_in) as \"count\").\n",
    "  orderBy(desc(\"count\"))\n",
    "in.show()"
   ]
  },
  {
   "cell_type": "code",
   "execution_count": 39,
   "metadata": {},
   "outputs": [
    {
     "name": "stdout",
     "output_type": "stream",
     "text": [
      "+---------+-----+\n",
      "|month_out|count|\n",
      "+---------+-----+\n",
      "|      May| 9300|\n",
      "|      Jul| 9087|\n",
      "|      Oct| 8716|\n",
      "|      Jun| 8640|\n",
      "|      Aug| 8470|\n",
      "|      Dec| 8252|\n",
      "|      Mar| 8214|\n",
      "|      Apr| 8186|\n",
      "|      Nov| 8013|\n",
      "|      Sep| 7934|\n",
      "|      Jan| 7561|\n",
      "|      Feb| 6851|\n",
      "+---------+-----+\n",
      "\n"
     ]
    },
    {
     "data": {
      "text/plain": [
       "out: org.apache.spark.sql.Dataset[org.apache.spark.sql.Row] = [month_out: string, count: bigint]\n"
      ]
     },
     "execution_count": 39,
     "metadata": {},
     "output_type": "execute_result"
    }
   ],
   "source": [
    "val out = animal_df.\n",
    "  groupBy('month_out).\n",
    "  agg(count('id_in) as \"count\").\n",
    "  orderBy(desc(\"count\"))\n",
    "out.show()"
   ]
  },
  {
   "cell_type": "code",
   "execution_count": 3,
   "metadata": {},
   "outputs": [
    {
     "ename": "<console>",
     "evalue": "6: error: identifier expected but symbol literal found.",
     "output_type": "error",
     "traceback": [
      "<console>:6: error: identifier expected but symbol literal found.",
      "var adopts = animal_df.select['outcome_type' == \"Adoption\"]",
      "                              ^",
      "<console>:6: error: unclosed character literal",
      "var adopts = animal_df.select['outcome_type' == \"Adoption\"]",
      "                                           ^",
      "<console>:7: error: ']' expected but ';' found.",
      "val out = adopts.",
      "^",
      ""
     ]
    }
   ],
   "source": [
    "//only look at years 2014 to 2018 as we have full dats for them to better look at a histogram of monthly adoptions\n",
    "\n",
    "//check months out for only outcome types which are adoption\n",
    "\n",
    "var adopts = animal_df.select['outcome_type' == \"Adoption\"]\n",
    "val out = adopts.\n",
    "  groupBy('month_out).\n",
    "  agg(count('id_in) as \"count\").\n",
    "  orderBy(desc(\"count\"))\n",
    "out.show()"
   ]
  },
  {
   "cell_type": "code",
   "execution_count": 4,
   "metadata": {},
   "outputs": [
    {
     "name": "stdout",
     "output_type": "stream",
     "text": [
      "Requirement already satisfied: pandas in /usr/local/lib/python3.6/dist-packages (0.24.2)\n",
      "Requirement already satisfied: python-dateutil>=2.5.0 in /usr/local/lib/python3.6/dist-packages (from pandas) (2.8.0)\n",
      "Requirement already satisfied: pytz>=2011k in /usr/local/lib/python3.6/dist-packages (from pandas) (2019.1)\n",
      "Requirement already satisfied: numpy>=1.12.0 in /usr/local/lib/python3.6/dist-packages (from pandas) (1.16.4)\n",
      "Requirement already satisfied: six>=1.5 in /usr/lib/python3/dist-packages (from python-dateutil>=2.5.0->pandas) (1.11.0)\n"
     ]
    }
   ],
   "source": [
    "!pip install pandas"
   ]
  },
  {
   "cell_type": "code",
   "execution_count": 52,
   "metadata": {},
   "outputs": [],
   "source": [
    "//prepare the spark dataframe to be moved into a python dataframe\n",
    "animal_df.createOrReplaceTempView(\"tempDataFrame\")"
   ]
  },
  {
   "cell_type": "code",
   "execution_count": 53,
   "metadata": {},
   "outputs": [],
   "source": [
    "%%python\n",
    "eda_df = spark.sql(\"select id_in, name_in, location_found_in, intake_type, intake_condition, species_in, age_years_in, sex_in, desexed_in, prim_colour_in, sec_colour_in, mix_breed_bool_in, prim_breed_in, date_in, time_in, ampm_in, month_in, weekday_in, dob_in, outcome_type, outcome_subtype, age_years_out, desexed_out, date_out, time_out, ampm_out, month_out, weekday_out from tempDataFrame\").toPandas()"
   ]
  },
  {
   "cell_type": "code",
   "execution_count": 56,
   "metadata": {},
   "outputs": [
    {
     "data": {
      "text/html": [
       "<div>\n",
       "<style scoped>\n",
       "    .dataframe tbody tr th:only-of-type {\n",
       "        vertical-align: middle;\n",
       "    }\n",
       "\n",
       "    .dataframe tbody tr th {\n",
       "        vertical-align: top;\n",
       "    }\n",
       "\n",
       "    .dataframe thead th {\n",
       "        text-align: right;\n",
       "    }\n",
       "</style>\n",
       "<table border=\"1\" class=\"dataframe\">\n",
       "  <thead>\n",
       "    <tr style=\"text-align: right;\">\n",
       "      <th></th>\n",
       "      <th>id_in</th>\n",
       "      <th>name_in</th>\n",
       "      <th>location_found_in</th>\n",
       "      <th>intake_type</th>\n",
       "      <th>intake_condition</th>\n",
       "      <th>species_in</th>\n",
       "      <th>age_years_in</th>\n",
       "      <th>sex_in</th>\n",
       "      <th>desexed_in</th>\n",
       "      <th>prim_colour_in</th>\n",
       "      <th>sec_colour_in</th>\n",
       "      <th>mix_breed_bool_in</th>\n",
       "      <th>prim_breed_in</th>\n",
       "      <th>date_in</th>\n",
       "      <th>time_in</th>\n",
       "      <th>ampm_in</th>\n",
       "      <th>month_in</th>\n",
       "      <th>weekday_in</th>\n",
       "      <th>dob_in</th>\n",
       "      <th>outcome_type</th>\n",
       "      <th>outcome_subtype</th>\n",
       "      <th>age_years_out</th>\n",
       "      <th>desexed_out</th>\n",
       "      <th>date_out</th>\n",
       "      <th>time_out</th>\n",
       "      <th>ampm_out</th>\n",
       "      <th>month_out</th>\n",
       "      <th>weekday_out</th>\n",
       "    </tr>\n",
       "  </thead>\n",
       "  <tbody>\n",
       "    <tr>\n",
       "      <th>0</th>\n",
       "      <td>A274546_1</td>\n",
       "      <td>Sophie</td>\n",
       "      <td>Manchaca And Slaughter in Austin (TX)</td>\n",
       "      <td>Stray</td>\n",
       "      <td>Normal</td>\n",
       "      <td>Dog</td>\n",
       "      <td>11.0</td>\n",
       "      <td>female</td>\n",
       "      <td>true</td>\n",
       "      <td>tricolor</td>\n",
       "      <td>unknown</td>\n",
       "      <td>true</td>\n",
       "      <td>pointer</td>\n",
       "      <td>2013-11-13</td>\n",
       "      <td>06:16:00</td>\n",
       "      <td>AM</td>\n",
       "      <td>Nov</td>\n",
       "      <td>Wed</td>\n",
       "      <td>2002-05-25</td>\n",
       "      <td>Adoption</td>\n",
       "      <td>unknown</td>\n",
       "      <td>11.0</td>\n",
       "      <td>true</td>\n",
       "      <td>2013-11-16</td>\n",
       "      <td>12:24:00</td>\n",
       "      <td>PM</td>\n",
       "      <td>Nov</td>\n",
       "      <td>Sat</td>\n",
       "    </tr>\n",
       "    <tr>\n",
       "      <th>1</th>\n",
       "      <td>A298677_1</td>\n",
       "      <td>Polly</td>\n",
       "      <td>Manor (TX)</td>\n",
       "      <td>Euthanasia Request</td>\n",
       "      <td>Sick</td>\n",
       "      <td>Dog</td>\n",
       "      <td>13.0</td>\n",
       "      <td>female</td>\n",
       "      <td>true</td>\n",
       "      <td>tan</td>\n",
       "      <td>unknown</td>\n",
       "      <td>true</td>\n",
       "      <td>german shepherd</td>\n",
       "      <td>2015-07-27</td>\n",
       "      <td>12:44:00</td>\n",
       "      <td>PM</td>\n",
       "      <td>Jul</td>\n",
       "      <td>Mon</td>\n",
       "      <td>2002-03-17</td>\n",
       "      <td>Euthanasia</td>\n",
       "      <td>Suffering</td>\n",
       "      <td>13.0</td>\n",
       "      <td>true</td>\n",
       "      <td>2015-07-27</td>\n",
       "      <td>01:59:00</td>\n",
       "      <td>AM</td>\n",
       "      <td>Jul</td>\n",
       "      <td>Mon</td>\n",
       "    </tr>\n",
       "    <tr>\n",
       "      <th>2</th>\n",
       "      <td>A443875_1</td>\n",
       "      <td>Sebastian</td>\n",
       "      <td>Austin (TX)</td>\n",
       "      <td>Owner Surrender</td>\n",
       "      <td>Normal</td>\n",
       "      <td>Cat</td>\n",
       "      <td>13.0</td>\n",
       "      <td>male</td>\n",
       "      <td>true</td>\n",
       "      <td>gray</td>\n",
       "      <td>white</td>\n",
       "      <td>true</td>\n",
       "      <td>domestic shorthair</td>\n",
       "      <td>2019-04-07</td>\n",
       "      <td>01:10:00</td>\n",
       "      <td>AM</td>\n",
       "      <td>Apr</td>\n",
       "      <td>Sun</td>\n",
       "      <td>2006-03-21</td>\n",
       "      <td>Adoption</td>\n",
       "      <td>unknown</td>\n",
       "      <td>13.0</td>\n",
       "      <td>true</td>\n",
       "      <td>2019-04-16</td>\n",
       "      <td>04:03:00</td>\n",
       "      <td>AM</td>\n",
       "      <td>Apr</td>\n",
       "      <td>Tue</td>\n",
       "    </tr>\n",
       "    <tr>\n",
       "      <th>3</th>\n",
       "      <td>A455146_1</td>\n",
       "      <td>Ruby</td>\n",
       "      <td>Wagon Train Cv in Austin (TX)</td>\n",
       "      <td>Stray</td>\n",
       "      <td>Normal</td>\n",
       "      <td>Dog</td>\n",
       "      <td>10.0</td>\n",
       "      <td>female</td>\n",
       "      <td>true</td>\n",
       "      <td>black</td>\n",
       "      <td>brown</td>\n",
       "      <td>true</td>\n",
       "      <td>rottweiler</td>\n",
       "      <td>2014-12-28</td>\n",
       "      <td>02:05:00</td>\n",
       "      <td>AM</td>\n",
       "      <td>Dec</td>\n",
       "      <td>Sun</td>\n",
       "      <td>2004-06-05</td>\n",
       "      <td>Transfer</td>\n",
       "      <td>Partner</td>\n",
       "      <td>10.0</td>\n",
       "      <td>true</td>\n",
       "      <td>2015-02-07</td>\n",
       "      <td>11:10:00</td>\n",
       "      <td>AM</td>\n",
       "      <td>Feb</td>\n",
       "      <td>Sat</td>\n",
       "    </tr>\n",
       "    <tr>\n",
       "      <th>4</th>\n",
       "      <td>A484080_1</td>\n",
       "      <td>Seven</td>\n",
       "      <td>7200 W. Easy Wind Dr. # 1079 in Austin (TX)</td>\n",
       "      <td>Public Assist</td>\n",
       "      <td>Normal</td>\n",
       "      <td>Dog</td>\n",
       "      <td>11.0</td>\n",
       "      <td>female</td>\n",
       "      <td>true</td>\n",
       "      <td>gold</td>\n",
       "      <td>unknown</td>\n",
       "      <td>true</td>\n",
       "      <td>labrador retriever</td>\n",
       "      <td>2016-11-26</td>\n",
       "      <td>11:25:00</td>\n",
       "      <td>AM</td>\n",
       "      <td>Nov</td>\n",
       "      <td>Sat</td>\n",
       "      <td>2005-08-27</td>\n",
       "      <td>Return to Owner</td>\n",
       "      <td>unknown</td>\n",
       "      <td>11.0</td>\n",
       "      <td>true</td>\n",
       "      <td>2016-11-29</td>\n",
       "      <td>12:48:00</td>\n",
       "      <td>PM</td>\n",
       "      <td>Nov</td>\n",
       "      <td>Tue</td>\n",
       "    </tr>\n",
       "  </tbody>\n",
       "</table>\n",
       "</div>"
      ],
      "text/plain": [
       "       id_in    name_in  ... month_out weekday_out\n",
       "0  A274546_1     Sophie  ...       Nov         Sat\n",
       "1  A298677_1      Polly  ...       Jul         Mon\n",
       "2  A443875_1  Sebastian  ...       Apr         Tue\n",
       "3  A455146_1       Ruby  ...       Feb         Sat\n",
       "4  A484080_1      Seven  ...       Nov         Tue\n",
       "\n",
       "[5 rows x 28 columns]"
      ]
     },
     "execution_count": 56,
     "metadata": {},
     "output_type": "execute_result"
    }
   ],
   "source": [
    "%%python\n",
    "# view datafrme\n",
    "eda_df.head()"
   ]
  },
  {
   "cell_type": "code",
   "execution_count": 55,
   "metadata": {},
   "outputs": [],
   "source": [
    "%%python\n",
    "# some variables need to be converted as scala has loaded all as an object type by default\n",
    "import pandas as pd\n",
    "\n",
    "# couldn't get this date format to play nice either maybe that is my issue\n",
    "eda_df['date_in'] = pd.to_datetime(eda_df['date_in'])\n",
    "eda_df['date_out'] = pd.to_datetime(eda_df['date_out'])\n",
    "eda_df['dob_in'] = pd.to_datetime(eda_df['dob_in'])\n",
    "eda_df['age_years_in'] = eda_df['age_years_in'].astype(str).astype(float)\n",
    "eda_df['age_years_out'] = eda_df['age_years_out'].astype(str).astype(float)"
   ]
  },
  {
   "cell_type": "code",
   "execution_count": 9,
   "metadata": {},
   "outputs": [
    {
     "data": {
      "text/html": [
       "<div>\n",
       "<style scoped>\n",
       "    .dataframe tbody tr th:only-of-type {\n",
       "        vertical-align: middle;\n",
       "    }\n",
       "\n",
       "    .dataframe tbody tr th {\n",
       "        vertical-align: top;\n",
       "    }\n",
       "\n",
       "    .dataframe thead th {\n",
       "        text-align: right;\n",
       "    }\n",
       "</style>\n",
       "<table border=\"1\" class=\"dataframe\">\n",
       "  <thead>\n",
       "    <tr style=\"text-align: right;\">\n",
       "      <th></th>\n",
       "      <th>id_in</th>\n",
       "      <th>name_in</th>\n",
       "      <th>location_found_in</th>\n",
       "      <th>intake_type</th>\n",
       "      <th>intake_condition</th>\n",
       "      <th>species_in</th>\n",
       "      <th>age_years_in</th>\n",
       "      <th>sex_in</th>\n",
       "      <th>desexed_in</th>\n",
       "      <th>prim_colour_in</th>\n",
       "      <th>sec_colour_in</th>\n",
       "      <th>mix_breed_bool_in</th>\n",
       "      <th>prim_breed_in</th>\n",
       "      <th>date_in</th>\n",
       "      <th>time_in</th>\n",
       "      <th>ampm_in</th>\n",
       "      <th>month_in</th>\n",
       "      <th>weekday_in</th>\n",
       "      <th>dob_in</th>\n",
       "      <th>outcome_type</th>\n",
       "      <th>outcome_subtype</th>\n",
       "      <th>age_years_out</th>\n",
       "      <th>desexed_out</th>\n",
       "      <th>date_out</th>\n",
       "      <th>time_out</th>\n",
       "      <th>ampm_out</th>\n",
       "      <th>month_out</th>\n",
       "      <th>weekday_out</th>\n",
       "    </tr>\n",
       "  </thead>\n",
       "  <tbody>\n",
       "    <tr>\n",
       "      <th>count</th>\n",
       "      <td>99224</td>\n",
       "      <td>99224</td>\n",
       "      <td>99224</td>\n",
       "      <td>99224</td>\n",
       "      <td>99224</td>\n",
       "      <td>99224</td>\n",
       "      <td>99224.000000</td>\n",
       "      <td>99224</td>\n",
       "      <td>99224</td>\n",
       "      <td>99224</td>\n",
       "      <td>99224</td>\n",
       "      <td>99224</td>\n",
       "      <td>99224</td>\n",
       "      <td>99224</td>\n",
       "      <td>99224</td>\n",
       "      <td>99224</td>\n",
       "      <td>99224</td>\n",
       "      <td>99224</td>\n",
       "      <td>99224</td>\n",
       "      <td>99224</td>\n",
       "      <td>99224</td>\n",
       "      <td>99224.000000</td>\n",
       "      <td>99224</td>\n",
       "      <td>99224</td>\n",
       "      <td>99224</td>\n",
       "      <td>99224</td>\n",
       "      <td>99224</td>\n",
       "      <td>99224</td>\n",
       "    </tr>\n",
       "    <tr>\n",
       "      <th>unique</th>\n",
       "      <td>99224</td>\n",
       "      <td>16734</td>\n",
       "      <td>44645</td>\n",
       "      <td>5</td>\n",
       "      <td>8</td>\n",
       "      <td>5</td>\n",
       "      <td>NaN</td>\n",
       "      <td>3</td>\n",
       "      <td>3</td>\n",
       "      <td>30</td>\n",
       "      <td>35</td>\n",
       "      <td>2</td>\n",
       "      <td>356</td>\n",
       "      <td>2057</td>\n",
       "      <td>720</td>\n",
       "      <td>2</td>\n",
       "      <td>12</td>\n",
       "      <td>7</td>\n",
       "      <td>6457</td>\n",
       "      <td>10</td>\n",
       "      <td>22</td>\n",
       "      <td>NaN</td>\n",
       "      <td>3</td>\n",
       "      <td>2057</td>\n",
       "      <td>720</td>\n",
       "      <td>2</td>\n",
       "      <td>12</td>\n",
       "      <td>7</td>\n",
       "    </tr>\n",
       "    <tr>\n",
       "      <th>top</th>\n",
       "      <td>A729130_1</td>\n",
       "      <td>unknown</td>\n",
       "      <td>Austin (TX)</td>\n",
       "      <td>Stray</td>\n",
       "      <td>Normal</td>\n",
       "      <td>Dog</td>\n",
       "      <td>NaN</td>\n",
       "      <td>male</td>\n",
       "      <td>false</td>\n",
       "      <td>black</td>\n",
       "      <td>unknown</td>\n",
       "      <td>true</td>\n",
       "      <td>domestic shorthair</td>\n",
       "      <td>2014-07-09 00:00:00</td>\n",
       "      <td>11:01:00</td>\n",
       "      <td>AM</td>\n",
       "      <td>May</td>\n",
       "      <td>Mon</td>\n",
       "      <td>2015-09-01 00:00:00</td>\n",
       "      <td>Adoption</td>\n",
       "      <td>unknown</td>\n",
       "      <td>NaN</td>\n",
       "      <td>true</td>\n",
       "      <td>2016-07-09 00:00:00</td>\n",
       "      <td>12:00:00</td>\n",
       "      <td>AM</td>\n",
       "      <td>May</td>\n",
       "      <td>Sat</td>\n",
       "    </tr>\n",
       "    <tr>\n",
       "      <th>freq</th>\n",
       "      <td>1</td>\n",
       "      <td>30965</td>\n",
       "      <td>17994</td>\n",
       "      <td>69844</td>\n",
       "      <td>87409</td>\n",
       "      <td>56954</td>\n",
       "      <td>NaN</td>\n",
       "      <td>47441</td>\n",
       "      <td>61498</td>\n",
       "      <td>24988</td>\n",
       "      <td>32340</td>\n",
       "      <td>92421</td>\n",
       "      <td>29583</td>\n",
       "      <td>140</td>\n",
       "      <td>535</td>\n",
       "      <td>85326</td>\n",
       "      <td>10425</td>\n",
       "      <td>14998</td>\n",
       "      <td>118</td>\n",
       "      <td>42760</td>\n",
       "      <td>54312</td>\n",
       "      <td>NaN</td>\n",
       "      <td>66511</td>\n",
       "      <td>209</td>\n",
       "      <td>2594</td>\n",
       "      <td>87947</td>\n",
       "      <td>9300</td>\n",
       "      <td>15955</td>\n",
       "    </tr>\n",
       "    <tr>\n",
       "      <th>first</th>\n",
       "      <td>NaN</td>\n",
       "      <td>NaN</td>\n",
       "      <td>NaN</td>\n",
       "      <td>NaN</td>\n",
       "      <td>NaN</td>\n",
       "      <td>NaN</td>\n",
       "      <td>NaN</td>\n",
       "      <td>NaN</td>\n",
       "      <td>NaN</td>\n",
       "      <td>NaN</td>\n",
       "      <td>NaN</td>\n",
       "      <td>NaN</td>\n",
       "      <td>NaN</td>\n",
       "      <td>2013-10-01 00:00:00</td>\n",
       "      <td>NaN</td>\n",
       "      <td>NaN</td>\n",
       "      <td>NaN</td>\n",
       "      <td>NaN</td>\n",
       "      <td>1991-12-11 00:00:00</td>\n",
       "      <td>NaN</td>\n",
       "      <td>NaN</td>\n",
       "      <td>NaN</td>\n",
       "      <td>NaN</td>\n",
       "      <td>2013-10-01 00:00:00</td>\n",
       "      <td>NaN</td>\n",
       "      <td>NaN</td>\n",
       "      <td>NaN</td>\n",
       "      <td>NaN</td>\n",
       "    </tr>\n",
       "    <tr>\n",
       "      <th>last</th>\n",
       "      <td>NaN</td>\n",
       "      <td>NaN</td>\n",
       "      <td>NaN</td>\n",
       "      <td>NaN</td>\n",
       "      <td>NaN</td>\n",
       "      <td>NaN</td>\n",
       "      <td>NaN</td>\n",
       "      <td>NaN</td>\n",
       "      <td>NaN</td>\n",
       "      <td>NaN</td>\n",
       "      <td>NaN</td>\n",
       "      <td>NaN</td>\n",
       "      <td>NaN</td>\n",
       "      <td>2019-05-19 00:00:00</td>\n",
       "      <td>NaN</td>\n",
       "      <td>NaN</td>\n",
       "      <td>NaN</td>\n",
       "      <td>NaN</td>\n",
       "      <td>2019-12-06 00:00:00</td>\n",
       "      <td>NaN</td>\n",
       "      <td>NaN</td>\n",
       "      <td>NaN</td>\n",
       "      <td>NaN</td>\n",
       "      <td>2019-05-19 00:00:00</td>\n",
       "      <td>NaN</td>\n",
       "      <td>NaN</td>\n",
       "      <td>NaN</td>\n",
       "      <td>NaN</td>\n",
       "    </tr>\n",
       "    <tr>\n",
       "      <th>mean</th>\n",
       "      <td>NaN</td>\n",
       "      <td>NaN</td>\n",
       "      <td>NaN</td>\n",
       "      <td>NaN</td>\n",
       "      <td>NaN</td>\n",
       "      <td>NaN</td>\n",
       "      <td>2.096358</td>\n",
       "      <td>NaN</td>\n",
       "      <td>NaN</td>\n",
       "      <td>NaN</td>\n",
       "      <td>NaN</td>\n",
       "      <td>NaN</td>\n",
       "      <td>NaN</td>\n",
       "      <td>NaN</td>\n",
       "      <td>NaN</td>\n",
       "      <td>NaN</td>\n",
       "      <td>NaN</td>\n",
       "      <td>NaN</td>\n",
       "      <td>NaN</td>\n",
       "      <td>NaN</td>\n",
       "      <td>NaN</td>\n",
       "      <td>2.133003</td>\n",
       "      <td>NaN</td>\n",
       "      <td>NaN</td>\n",
       "      <td>NaN</td>\n",
       "      <td>NaN</td>\n",
       "      <td>NaN</td>\n",
       "      <td>NaN</td>\n",
       "    </tr>\n",
       "    <tr>\n",
       "      <th>std</th>\n",
       "      <td>NaN</td>\n",
       "      <td>NaN</td>\n",
       "      <td>NaN</td>\n",
       "      <td>NaN</td>\n",
       "      <td>NaN</td>\n",
       "      <td>NaN</td>\n",
       "      <td>2.891902</td>\n",
       "      <td>NaN</td>\n",
       "      <td>NaN</td>\n",
       "      <td>NaN</td>\n",
       "      <td>NaN</td>\n",
       "      <td>NaN</td>\n",
       "      <td>NaN</td>\n",
       "      <td>NaN</td>\n",
       "      <td>NaN</td>\n",
       "      <td>NaN</td>\n",
       "      <td>NaN</td>\n",
       "      <td>NaN</td>\n",
       "      <td>NaN</td>\n",
       "      <td>NaN</td>\n",
       "      <td>NaN</td>\n",
       "      <td>2.899889</td>\n",
       "      <td>NaN</td>\n",
       "      <td>NaN</td>\n",
       "      <td>NaN</td>\n",
       "      <td>NaN</td>\n",
       "      <td>NaN</td>\n",
       "      <td>NaN</td>\n",
       "    </tr>\n",
       "    <tr>\n",
       "      <th>min</th>\n",
       "      <td>NaN</td>\n",
       "      <td>NaN</td>\n",
       "      <td>NaN</td>\n",
       "      <td>NaN</td>\n",
       "      <td>NaN</td>\n",
       "      <td>NaN</td>\n",
       "      <td>-1.000000</td>\n",
       "      <td>NaN</td>\n",
       "      <td>NaN</td>\n",
       "      <td>NaN</td>\n",
       "      <td>NaN</td>\n",
       "      <td>NaN</td>\n",
       "      <td>NaN</td>\n",
       "      <td>NaN</td>\n",
       "      <td>NaN</td>\n",
       "      <td>NaN</td>\n",
       "      <td>NaN</td>\n",
       "      <td>NaN</td>\n",
       "      <td>NaN</td>\n",
       "      <td>NaN</td>\n",
       "      <td>NaN</td>\n",
       "      <td>-1.000000</td>\n",
       "      <td>NaN</td>\n",
       "      <td>NaN</td>\n",
       "      <td>NaN</td>\n",
       "      <td>NaN</td>\n",
       "      <td>NaN</td>\n",
       "      <td>NaN</td>\n",
       "    </tr>\n",
       "    <tr>\n",
       "      <th>25%</th>\n",
       "      <td>NaN</td>\n",
       "      <td>NaN</td>\n",
       "      <td>NaN</td>\n",
       "      <td>NaN</td>\n",
       "      <td>NaN</td>\n",
       "      <td>NaN</td>\n",
       "      <td>0.166667</td>\n",
       "      <td>NaN</td>\n",
       "      <td>NaN</td>\n",
       "      <td>NaN</td>\n",
       "      <td>NaN</td>\n",
       "      <td>NaN</td>\n",
       "      <td>NaN</td>\n",
       "      <td>NaN</td>\n",
       "      <td>NaN</td>\n",
       "      <td>NaN</td>\n",
       "      <td>NaN</td>\n",
       "      <td>NaN</td>\n",
       "      <td>NaN</td>\n",
       "      <td>NaN</td>\n",
       "      <td>NaN</td>\n",
       "      <td>0.250000</td>\n",
       "      <td>NaN</td>\n",
       "      <td>NaN</td>\n",
       "      <td>NaN</td>\n",
       "      <td>NaN</td>\n",
       "      <td>NaN</td>\n",
       "      <td>NaN</td>\n",
       "    </tr>\n",
       "    <tr>\n",
       "      <th>50%</th>\n",
       "      <td>NaN</td>\n",
       "      <td>NaN</td>\n",
       "      <td>NaN</td>\n",
       "      <td>NaN</td>\n",
       "      <td>NaN</td>\n",
       "      <td>NaN</td>\n",
       "      <td>1.000000</td>\n",
       "      <td>NaN</td>\n",
       "      <td>NaN</td>\n",
       "      <td>NaN</td>\n",
       "      <td>NaN</td>\n",
       "      <td>NaN</td>\n",
       "      <td>NaN</td>\n",
       "      <td>NaN</td>\n",
       "      <td>NaN</td>\n",
       "      <td>NaN</td>\n",
       "      <td>NaN</td>\n",
       "      <td>NaN</td>\n",
       "      <td>NaN</td>\n",
       "      <td>NaN</td>\n",
       "      <td>NaN</td>\n",
       "      <td>1.000000</td>\n",
       "      <td>NaN</td>\n",
       "      <td>NaN</td>\n",
       "      <td>NaN</td>\n",
       "      <td>NaN</td>\n",
       "      <td>NaN</td>\n",
       "      <td>NaN</td>\n",
       "    </tr>\n",
       "    <tr>\n",
       "      <th>75%</th>\n",
       "      <td>NaN</td>\n",
       "      <td>NaN</td>\n",
       "      <td>NaN</td>\n",
       "      <td>NaN</td>\n",
       "      <td>NaN</td>\n",
       "      <td>NaN</td>\n",
       "      <td>2.000000</td>\n",
       "      <td>NaN</td>\n",
       "      <td>NaN</td>\n",
       "      <td>NaN</td>\n",
       "      <td>NaN</td>\n",
       "      <td>NaN</td>\n",
       "      <td>NaN</td>\n",
       "      <td>NaN</td>\n",
       "      <td>NaN</td>\n",
       "      <td>NaN</td>\n",
       "      <td>NaN</td>\n",
       "      <td>NaN</td>\n",
       "      <td>NaN</td>\n",
       "      <td>NaN</td>\n",
       "      <td>NaN</td>\n",
       "      <td>2.000000</td>\n",
       "      <td>NaN</td>\n",
       "      <td>NaN</td>\n",
       "      <td>NaN</td>\n",
       "      <td>NaN</td>\n",
       "      <td>NaN</td>\n",
       "      <td>NaN</td>\n",
       "    </tr>\n",
       "    <tr>\n",
       "      <th>max</th>\n",
       "      <td>NaN</td>\n",
       "      <td>NaN</td>\n",
       "      <td>NaN</td>\n",
       "      <td>NaN</td>\n",
       "      <td>NaN</td>\n",
       "      <td>NaN</td>\n",
       "      <td>25.000000</td>\n",
       "      <td>NaN</td>\n",
       "      <td>NaN</td>\n",
       "      <td>NaN</td>\n",
       "      <td>NaN</td>\n",
       "      <td>NaN</td>\n",
       "      <td>NaN</td>\n",
       "      <td>NaN</td>\n",
       "      <td>NaN</td>\n",
       "      <td>NaN</td>\n",
       "      <td>NaN</td>\n",
       "      <td>NaN</td>\n",
       "      <td>NaN</td>\n",
       "      <td>NaN</td>\n",
       "      <td>NaN</td>\n",
       "      <td>25.000000</td>\n",
       "      <td>NaN</td>\n",
       "      <td>NaN</td>\n",
       "      <td>NaN</td>\n",
       "      <td>NaN</td>\n",
       "      <td>NaN</td>\n",
       "      <td>NaN</td>\n",
       "    </tr>\n",
       "  </tbody>\n",
       "</table>\n",
       "</div>"
      ],
      "text/plain": [
       "            id_in  name_in location_found_in  ... ampm_out month_out weekday_out\n",
       "count       99224    99224             99224  ...    99224     99224       99224\n",
       "unique      99224    16734             44645  ...        2        12           7\n",
       "top     A729130_1  unknown       Austin (TX)  ...       AM       May         Sat\n",
       "freq            1    30965             17994  ...    87947      9300       15955\n",
       "first         NaN      NaN               NaN  ...      NaN       NaN         NaN\n",
       "last          NaN      NaN               NaN  ...      NaN       NaN         NaN\n",
       "mean          NaN      NaN               NaN  ...      NaN       NaN         NaN\n",
       "std           NaN      NaN               NaN  ...      NaN       NaN         NaN\n",
       "min           NaN      NaN               NaN  ...      NaN       NaN         NaN\n",
       "25%           NaN      NaN               NaN  ...      NaN       NaN         NaN\n",
       "50%           NaN      NaN               NaN  ...      NaN       NaN         NaN\n",
       "75%           NaN      NaN               NaN  ...      NaN       NaN         NaN\n",
       "max           NaN      NaN               NaN  ...      NaN       NaN         NaN\n",
       "\n",
       "[13 rows x 28 columns]"
      ]
     },
     "execution_count": 9,
     "metadata": {},
     "output_type": "execute_result"
    }
   ],
   "source": [
    "%%python\n",
    "#check the basic stats in the dataframe\n",
    "eda_df.describe(include='all')"
   ]
  },
  {
   "cell_type": "code",
   "execution_count": 8,
   "metadata": {
    "scrolled": true
   },
   "outputs": [
    {
     "name": "stdout",
     "output_type": "stream",
     "text": [
      "Collecting matplotlib\n",
      "\u001b[?25l  Downloading https://files.pythonhosted.org/packages/da/83/d989ee20c78117c737ab40e0318ea221f1aed4e3f5a40b4f93541b369b93/matplotlib-3.1.0-cp36-cp36m-manylinux1_x86_64.whl (13.1MB)\n",
      "\u001b[K     |################################| 13.1MB 887kB/s eta 0:00:01\n",
      "\u001b[?25hRequirement already satisfied: python-dateutil>=2.1 in /usr/local/lib/python3.6/dist-packages (from matplotlib) (2.8.0)\n",
      "Collecting numpy>=1.11 (from matplotlib)\n",
      "\u001b[?25l  Downloading https://files.pythonhosted.org/packages/87/2d/e4656149cbadd3a8a0369fcd1a9c7d61cc7b87b3903b85389c70c989a696/numpy-1.16.4-cp36-cp36m-manylinux1_x86_64.whl (17.3MB)\n",
      "\u001b[K     |################################| 17.3MB 4.3MB/s eta 0:00:01\n",
      "\u001b[?25hCollecting cycler>=0.10 (from matplotlib)\n",
      "  Downloading https://files.pythonhosted.org/packages/f7/d2/e07d3ebb2bd7af696440ce7e754c59dd546ffe1bbe732c8ab68b9c834e61/cycler-0.10.0-py2.py3-none-any.whl\n",
      "Collecting kiwisolver>=1.0.1 (from matplotlib)\n",
      "\u001b[?25l  Downloading https://files.pythonhosted.org/packages/f8/a1/5742b56282449b1c0968197f63eae486eca2c35dcd334bab75ad524e0de1/kiwisolver-1.1.0-cp36-cp36m-manylinux1_x86_64.whl (90kB)\n",
      "\u001b[K     |################################| 92kB 3.6MB/s eta 0:00:01\n",
      "\u001b[?25hCollecting pyparsing!=2.0.4,!=2.1.2,!=2.1.6,>=2.0.1 (from matplotlib)\n",
      "\u001b[?25l  Downloading https://files.pythonhosted.org/packages/dd/d9/3ec19e966301a6e25769976999bd7bbe552016f0d32b577dc9d63d2e0c49/pyparsing-2.4.0-py2.py3-none-any.whl (62kB)\n",
      "\u001b[K     |################################| 71kB 4.6MB/s eta 0:00:01\n",
      "\u001b[?25hRequirement already satisfied: six>=1.5 in /usr/lib/python3/dist-packages (from python-dateutil>=2.1->matplotlib) (1.11.0)\n",
      "Requirement already satisfied: setuptools in /usr/lib/python3/dist-packages (from kiwisolver>=1.0.1->matplotlib) (39.0.1)\n",
      "Installing collected packages: numpy, cycler, kiwisolver, pyparsing, matplotlib\n",
      "Successfully installed cycler-0.10.0 kiwisolver-1.1.0 matplotlib-3.1.0 numpy-1.16.4 pyparsing-2.4.0\n",
      "Collecting seaborn\n",
      "\n",
      "\u001b[K     |################################| 215kB 2.2MB/s eta 0:00:01\n",
      "\u001b[?25hCollecting scipy>=0.14.0 (from seaborn)\n",
      "\u001b[?25l  Downloading https://files.pythonhosted.org/packages/72/4c/5f81e7264b0a7a8bd570810f48cd346ba36faedbd2ba255c873ad556de76/scipy-1.3.0-cp36-cp36m-manylinux1_x86_64.whl (25.2MB)\n",
      "\u001b[K     |################################| 25.2MB 6.6MB/s eta 0:00:01\n",
      "\u001b[?25hRequirement already satisfied: matplotlib>=1.4.3 in /usr/local/lib/python3.6/dist-packages (from seaborn) (3.1.0)\n",
      "Collecting pandas>=0.15.2 (from seaborn)\n",
      "\u001b[?25l  Downloading https://files.pythonhosted.org/packages/19/74/e50234bc82c553fecdbd566d8650801e3fe2d6d8c8d940638e3d8a7c5522/pandas-0.24.2-cp36-cp36m-manylinux1_x86_64.whl (10.1MB)\n",
      "\u001b[K     |################################| 10.1MB 3.1MB/s eta 0:00:01\n",
      "\u001b[?25hRequirement already satisfied: numpy>=1.9.3 in /usr/local/lib/python3.6/dist-packages (from seaborn) (1.16.4)\n",
      "Requirement already satisfied: python-dateutil>=2.1 in /usr/local/lib/python3.6/dist-packages (from matplotlib>=1.4.3->seaborn) (2.8.0)\n",
      "Requirement already satisfied: pyparsing!=2.0.4,!=2.1.2,!=2.1.6,>=2.0.1 in /usr/local/lib/python3.6/dist-packages (from matplotlib>=1.4.3->seaborn) (2.4.0)\n",
      "Requirement already satisfied: kiwisolver>=1.0.1 in /usr/local/lib/python3.6/dist-packages (from matplotlib>=1.4.3->seaborn) (1.1.0)\n",
      "Requirement already satisfied: cycler>=0.10 in /usr/local/lib/python3.6/dist-packages (from matplotlib>=1.4.3->seaborn) (0.10.0)\n",
      "Collecting pytz>=2011k (from pandas>=0.15.2->seaborn)\n",
      "\u001b[?25l  Downloading https://files.pythonhosted.org/packages/3d/73/fe30c2daaaa0713420d0382b16fbb761409f532c56bdcc514bf7b6262bb6/pytz-2019.1-py2.py3-none-any.whl (510kB)\n",
      "\u001b[K     |################################| 512kB 2.7MB/s eta 0:00:01\n",
      "\u001b[?25hRequirement already satisfied: six>=1.5 in /usr/lib/python3/dist-packages (from python-dateutil>=2.1->matplotlib>=1.4.3->seaborn) (1.11.0)\n",
      "Requirement already satisfied: setuptools in /usr/lib/python3/dist-packages (from kiwisolver>=1.0.1->matplotlib>=1.4.3->seaborn) (39.0.1)\n",
      "Installing collected packages: scipy, pytz, pandas, seaborn\n",
      "Successfully installed pandas-0.24.2 pytz-2019.1 scipy-1.3.0 seaborn-0.9.0\n"
     ]
    }
   ],
   "source": [
    "!pip install matplotlib\n",
    "!pip install seaborn"
   ]
  },
  {
   "cell_type": "code",
   "execution_count": null,
   "metadata": {},
   "outputs": [],
   "source": [
    "%%python\n",
    "# import libraries required for plotting\n",
    "from matplotlib import pyplot as plt\n",
    "from IPython.display import Image\n",
    "import tempfile\n",
    "import seaborn as sns\n",
    "import pandas as pd"
   ]
  },
  {
   "cell_type": "code",
   "execution_count": 57,
   "metadata": {},
   "outputs": [],
   "source": [
    "%%python\n",
    "filtered_df = eda_df[(eda_df['date_in'] >= '2014-01-01') & (eda_df['date_in'] < '2019-01-01')]"
   ]
  },
  {
   "cell_type": "code",
   "execution_count": 68,
   "metadata": {},
   "outputs": [
    {
     "data": {
      "text/plain": [
       "date_in\n",
       "1     6013\n",
       "2     5740\n",
       "3     6912\n",
       "4     7501\n",
       "5     9717\n",
       "6     9190\n",
       "7     8195\n",
       "8     7895\n",
       "9     8109\n",
       "10    7634\n",
       "11    6523\n",
       "12    5979\n",
       "Name: date_in, dtype: int64"
      ]
     },
     "execution_count": 68,
     "metadata": {},
     "output_type": "execute_result"
    }
   ],
   "source": [
    "%%python\n",
    "filtered_df[\"date_in\"].groupby(filtered_df[\"date_in\"].dt.month).count()"
   ]
  },
  {
   "cell_type": "code",
   "execution_count": 65,
   "metadata": {},
   "outputs": [],
   "source": [
    "%%python\n",
    "months = filtered_df[\"date_in\"].groupby([filtered_df.date_in.dt.year, filtered_df.date_in.dt.month]).agg('count')\n",
    "months"
   ]
  },
  {
   "cell_type": "code",
   "execution_count": 77,
   "metadata": {},
   "outputs": [
    {
     "data": {
      "text/plain": [
       "86555    Jan\n",
       "96698    Jun\n",
       "19960    Aug\n",
       "27463    Nov\n",
       "9581     Oct\n",
       "76303    Jan\n",
       "86662    Jun\n",
       "58773    Nov\n",
       "32759    Sep\n",
       "97944    Mar\n",
       "95163    Mar\n",
       "77616    Jan\n",
       "97074    Aug\n",
       "77810    Sep\n",
       "12396    Feb\n",
       "79482    Jul\n",
       "39136    Jun\n",
       "91196    Mar\n",
       "9513     Dec\n",
       "61335    Nov\n",
       "83820    Mar\n",
       "82172    Jun\n",
       "59419    May\n",
       "50477    Aug\n",
       "7334     Feb\n",
       "57007    Aug\n",
       "26850    Nov\n",
       "50697    May\n",
       "64225    May\n",
       "154      Nov\n",
       "        ... \n",
       "21050    Jun\n",
       "2482     Dec\n",
       "55459    Apr\n",
       "63325    Mar\n",
       "64187    Feb\n",
       "72000    May\n",
       "48631    Dec\n",
       "97540    Sep\n",
       "70240    Nov\n",
       "72457    Jun\n",
       "71856    Apr\n",
       "96776    Jun\n",
       "57224    Jul\n",
       "44750    Jul\n",
       "51779    Apr\n",
       "72678    Aug\n",
       "44805    Mar\n",
       "12819    Jul\n",
       "24383    Jun\n",
       "75244    Jul\n",
       "51471    Oct\n",
       "34607    Jul\n",
       "40062    Jun\n",
       "79026    Apr\n",
       "76683    Jun\n",
       "36686    Apr\n",
       "72275    Jun\n",
       "78007    Jan\n",
       "28603    May\n",
       "83436    Mar\n",
       "Name: month_in, Length: 10000, dtype: object"
      ]
     },
     "execution_count": 77,
     "metadata": {},
     "output_type": "execute_result"
    }
   ],
   "source": [
    "%%python\n",
    "mon_in"
   ]
  },
  {
   "cell_type": "code",
   "execution_count": 79,
   "metadata": {},
   "outputs": [
    {
     "data": {
      "image/png": "[encoded data removed]",
      "text/plain": [
       "<IPython.core.display.Image object>"
      ]
     },
     "execution_count": 79,
     "metadata": {},
     "output_type": "execute_result"
    }
   ],
   "source": [
    "%%python\n",
    "\n",
    "df_samp = filtered_df.sample(n=10000)\n",
    "mon_in = df_samp['month_in']\n",
    "mon_out = df_samp['month_out']\n",
    "\n",
    "plt.clf()\n",
    "plt.hist(mon_in)\n",
    "plt.title(\"Frequency of Intakes per Month\")\n",
    "plt.show()\n",
    "with tempfile.NamedTemporaryFile(suffix=\".png\") as fo:\n",
    "    plt.savefig(fo.name)\n",
    "    retval = Image(filename=fo.name)"
   ]
  },
  {
   "cell_type": "code",
   "execution_count": 66,
   "metadata": {},
   "outputs": [
    {
     "data": {
      "image/png": "[encoded data removed]",
      "text/plain": [
       "<IPython.core.display.Image object>"
      ]
     },
     "execution_count": 66,
     "metadata": {},
     "output_type": "execute_result"
    }
   ],
   "source": [
    "%%python\n",
    "from matplotlib import pyplot as plt\n",
    "from IPython.display import Image\n",
    "import tempfile\n",
    "\n",
    "df_samp = eda_df.sample(n=1000)\n",
    "\n",
    "plt.clf()\n",
    "plt.bar(df_samp['species_in'],df_samp['age_years_in'])\n",
    "plt.show()\n",
    "with tempfile.NamedTemporaryFile(suffix=\".png\") as fo:\n",
    "    plt.savefig(fo.name)\n",
    "    retval = Image(filename=fo.name)"
   ]
  },
  {
   "cell_type": "code",
   "execution_count": 20,
   "metadata": {},
   "outputs": [
    {
     "name": "stdout",
     "output_type": "stream",
     "text": [
      "Empty DataFrame\n",
      "Columns: [id_in, name_in, location_found_in, intake_type, intake_condition, species_in, age_years_in, sex_in, desexed_in, prim_colour_in, sec_colour_in, mix_breed_bool_in, prim_breed_in, date_in, time_in, ampm_in, month_in, weekday_in, dob_in, outcome_type, outcome_subtype, age_years_out, desexed_out, date_out, time_out, ampm_out, month_out, weekday_out]\n",
      "Index: []\n",
      "hello\n"
     ]
    }
   ],
   "source": [
    "%%python\n",
    "new = eda_df[eda_df['date_in'].dt.year == '2013']\n",
    "print(new.head())\n",
    "print('hello')"
   ]
  },
  {
   "cell_type": "code",
   "execution_count": null,
   "metadata": {},
   "outputs": [],
   "source": [
    "%%python\n",
    "eda_df_2014 = eda_df.drop(eda_df[eda_df['date_in'].dt.year == '2013'].index)\n",
    "eda_df_2014to2018 = eda_df_2014.drop(eda_df_2014[eda_df_2014['date_in'].dt.year == '2019'].index)\n",
    "\n",
    "allyears = eda_df.groupby(eda_df['date_in'].dt.month).count()[['id_in']].reset_index()\n",
    "\n",
    "df_samp = eda_df_2014to2018.sample(n=1000)\n",
    "sam = eda_df.sample(n=1000)\n",
    "\n",
    "plt.clf()\n",
    "plt.hist(eda_df['month_in'])\n",
    "plt.title(\"Frequency of Intakes per Month\")\n",
    "plt.show()\n",
    "with tempfile.NamedTemporaryFile(suffix=\".png\") as fo:\n",
    "    plt.savefig(fo.name)\n",
    "    retval = Image(filename=fo.name)"
   ]
  },
  {
   "cell_type": "code",
   "execution_count": 10,
   "metadata": {
    "scrolled": true
   },
   "outputs": [
    {
     "data": {
      "image/png": "[encoded data removed]",
      "text/plain": [
       "<IPython.core.display.Image object>"
      ]
     },
     "execution_count": 10,
     "metadata": {},
     "output_type": "execute_result"
    }
   ],
   "source": [
    "%%python\n",
    "from matplotlib import pyplot as plt\n",
    "from IPython.display import Image\n",
    "import tempfile\n",
    "import seaborn as sns\n",
    "\n",
    "df_samp = eda_df.sample(n=1000)\n",
    "\n",
    "plt.clf()\n",
    "sns.boxplot(x='intake_condition', y='age_years_in', data=df_samp, orient='v')\n",
    "plt.title(\"Condition of Intake Animals by Age\")\n",
    "plt.show()\n",
    "with tempfile.NamedTemporaryFile(suffix=\".png\") as fo:\n",
    "    plt.savefig(fo.name)\n",
    "    retval = Image(filename=fo.name)"
   ]
  },
  {
   "cell_type": "code",
   "execution_count": 55,
   "metadata": {},
   "outputs": [
    {
     "data": {
      "image/png": "[encoded data removed]",
      "text/plain": [
       "<IPython.core.display.Image object>"
      ]
     },
     "execution_count": 55,
     "metadata": {},
     "output_type": "execute_result"
    }
   ],
   "source": [
    "%%python\n",
    "\n",
    "df_samp = eda_df.sample(n=1000)\n",
    "\n",
    "plt.clf()\n",
    "sns.boxplot(x='species_in', y='age_years_out', data=df_samp, orient='v')\n",
    "plt.title(\"Average Age Out\")\n",
    "plt.show()\n",
    "with tempfile.NamedTemporaryFile(suffix=\".png\") as fo:\n",
    "    plt.savefig(fo.name)\n",
    "    retval = Image(filename=fo.name)"
   ]
  },
  {
   "cell_type": "code",
   "execution_count": null,
   "metadata": {},
   "outputs": [],
   "source": [
    "%%python\n"
   ]
  },
  {
   "cell_type": "code",
   "execution_count": null,
   "metadata": {},
   "outputs": [],
   "source": [
    "intake condition and age"
   ]
  },
  {
   "cell_type": "code",
   "execution_count": null,
   "metadata": {},
   "outputs": [],
   "source": [
    "plots take ages, maybe use a sample\n"
   ]
  }
 ],
 "metadata": {
  "kernelspec": {
   "display_name": "spylon-kernel",
   "language": "scala",
   "name": "spylon-kernel"
  },
  "language_info": {
   "codemirror_mode": "text/x-scala",
   "file_extension": ".scala",
   "help_links": [
    {
     "text": "MetaKernel Magics",
     "url": "https://metakernel.readthedocs.io/en/latest/source/README.html"
    }
   ],
   "mimetype": "text/x-scala",
   "name": "scala",
   "pygments_lexer": "scala",
   "version": "0.4.1"
  }
 },
 "nbformat": 4,
 "nbformat_minor": 2
}
